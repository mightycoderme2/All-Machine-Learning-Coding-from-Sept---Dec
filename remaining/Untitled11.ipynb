{
  "nbformat": 4,
  "nbformat_minor": 0,
  "metadata": {
    "colab": {
      "name": "Untitled11.ipynb",
      "private_outputs": true,
      "provenance": []
    },
    "kernelspec": {
      "name": "python3",
      "display_name": "Python 3"
    },
    "language_info": {
      "name": "python"
    }
  },
  "cells": [
    {
      "cell_type": "code",
      "metadata": {
        "id": "a1Ww6yZEwQQI"
      },
      "source": [
        "!gdown --id 1onaG42NZft3wCE1WH0GDEbUhu75fedP5\n",
        "\n",
        "!gdown --id 1LYeusSEIiZQpwN-mthh5nKdA75VsKG1U"
      ],
      "execution_count": null,
      "outputs": []
    },
    {
      "cell_type": "code",
      "metadata": {
        "id": "x0Ii3_cIwTcO"
      },
      "source": [
        "import os \n",
        "import zipfile \n",
        "\n",
        "a='./horse-or-human.zip'\n",
        "b=zipfile.ZipFile(a,'r')\n",
        "b.extractall('./horse-or-human')\n",
        "b.close()\n",
        "local_zip = './validation-horse-or-human.zip'\n",
        "zip_ref = zipfile.ZipFile(local_zip, 'r')\n",
        "zip_ref.extractall('./validation-horse-or-human')\n",
        "zip_ref.close()"
      ],
      "execution_count": null,
      "outputs": []
    },
    {
      "cell_type": "code",
      "metadata": {
        "id": "h8iqXFr1wlNi"
      },
      "source": [
        "horse_train=os.path.join('./horse-or-human/horses')\n",
        "human_train=os.path.join('./horse-or-human/humans')\n",
        "validation_horse_dir = os.path.join('./validation-horse-or-human/horses')\n",
        "\n",
        "# Directory with our training human pictures\n",
        "validation_human_dir = os.path.join('./validation-horse-or-human/humans')"
      ],
      "execution_count": null,
      "outputs": []
    },
    {
      "cell_type": "code",
      "metadata": {
        "id": "TRe36E4PxYOI"
      },
      "source": [
        "import tensorflow as tf\n",
        "from tensorflow.keras.layers import Dense,Flatten,Conv2D,MaxPooling2D\n",
        "from tensorflow.keras.datasets import fashion_mnist\n",
        "from tensorflow.keras.models import Sequential\n",
        "import numpy as np\n",
        "import matplotlib.pyplot as plt\n",
        "from tensorflow.keras.preprocessing.image import ImageDataGenerator\n",
        "from tensorflow.keras.optimizers import Adam,RMSprop"
      ],
      "execution_count": null,
      "outputs": []
    },
    {
      "cell_type": "code",
      "metadata": {
        "id": "MK10MUcAyOZ8"
      },
      "source": [
        "model=Sequential([Conv2D(16, (3,3), activation='relu', input_shape=(300, 300, 3)),\n",
        "                  MaxPooling2D(2,2),\n",
        "                  Conv2D(32,(3,3),activation='relu'),\n",
        "                  MaxPooling2D(2,2),\n",
        "                  Conv2D(64,(3,3),activation='relu'),\n",
        "                  MaxPooling2D(2,2),\n",
        "                  Conv2D(64,(3,3),activation='relu'),\n",
        "                  MaxPooling2D(2,2),\n",
        "                  Conv2D(64,(3,3),activation='relu'),\n",
        "                  MaxPooling2D(2,2),\n",
        "                  Flatten(),\n",
        "                  Dense(512,activation='relu'),\n",
        "                  Dense(1,activation='sigmoid')])\n",
        "\n",
        "model.summary()"
      ],
      "execution_count": null,
      "outputs": []
    },
    {
      "cell_type": "code",
      "metadata": {
        "id": "C9WRF4c4zrpw"
      },
      "source": [
        "model.compile(loss='binary_crossentropy',metrics=['accuracy'],optimizer=RMSprop(learning_rate=0.001000))"
      ],
      "execution_count": null,
      "outputs": []
    },
    {
      "cell_type": "code",
      "metadata": {
        "id": "bHhg5Y16z-NJ"
      },
      "source": [
        "c=ImageDataGenerator(rescale=1/255)\n",
        "validation_datagen = ImageDataGenerator(rescale=1/255)\n",
        "train=c.flow_from_directory(\n",
        "    './horse-or-human/',\n",
        "    target_size=(300,300),\n",
        "    batch_size=18,\n",
        "    class_mode='binary')\n",
        "\n",
        "validation_generator = validation_datagen.flow_from_directory(\n",
        "        './validation-horse-or-human/',  # This is the source directory for training images\n",
        "        target_size=(300, 300),  # All images will be resized to 300x300\n",
        "        batch_size=32,\n",
        "        # Since we use binary_crossentropy loss, we need binary labels\n",
        "        class_mode='binary')"
      ],
      "execution_count": null,
      "outputs": []
    },
    {
      "cell_type": "code",
      "metadata": {
        "id": "1gcMvjdJ0ei2"
      },
      "source": [
        "model.fit(train,steps_per_epoch=8,verbose=1,epochs=15,validation_data=validation_generator,validation_steps=8)"
      ],
      "execution_count": null,
      "outputs": []
    },
    {
      "cell_type": "code",
      "metadata": {
        "id": "WgGSqqUz0qUf"
      },
      "source": [
        "import numpy as np\n",
        "from google.colab import files\n",
        "from keras.preprocessing import image\n",
        "\n",
        "\n",
        "\n",
        "for i in uploaded.keys():\n",
        "  path='/content/validation-horse-or-human/humans/valhuman01-00.png'\n",
        "  img = image.load_img(path, target_size=(300, 300))\n",
        "  x=image.img_to_array(img)\n",
        "  x=np.expand_dims(x,axis=0)\n",
        "\n",
        "  images = np.vstack([x])\n",
        "  classes = model.predict(images, batch_size=10)\n",
        "  print(classes[0])\n",
        "  if classes[0]>0.5:\n",
        "    print(i + \" is a human\")\n",
        "  else:\n",
        "    print(i + \" is a horse\")\n",
        "\n"
      ],
      "execution_count": null,
      "outputs": []
    },
    {
      "cell_type": "code",
      "metadata": {
        "id": "3iU4q7B36Tdt"
      },
      "source": [
        "model.save(\"/content/human-or-horse.h5\")\n",
        "model=tf.keras.models.load_model(\"human-or-horse.h5\")"
      ],
      "execution_count": null,
      "outputs": []
    },
    {
      "cell_type": "code",
      "metadata": {
        "id": "i6azCi326x8d"
      },
      "source": [
        "model.summary()"
      ],
      "execution_count": null,
      "outputs": []
    }
  ]
}