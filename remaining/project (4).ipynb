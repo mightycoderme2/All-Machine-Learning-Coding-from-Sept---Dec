{
 "cells": [
  {
   "cell_type": "code",
   "execution_count": 47,
   "metadata": {},
   "outputs": [],
   "source": [
    "import torch \n",
    "import torch.nn as nn\n",
    "import torchvision\n",
    "import torchvision.transforms as transforms\n",
    "import torchvision.datasets as dsets\n",
    "import matplotlib.pylab as plt\n",
    "import numpy as np\n",
    "from torch.utils.data import Dataset, DataLoader\n",
    "from torch.nn import MaxPool2d,Conv2d,Linear,ReLU,BatchNorm2d,BatchNorm1d\n",
    "from torch import optim"
   ]
  },
  {
   "cell_type": "code",
   "execution_count": 75,
   "metadata": {},
   "outputs": [],
   "source": [
    "\n",
    "\n",
    "IMAGE_SIZE = 16\n",
    "composed = transforms.Compose([transforms.Resize((IMAGE_SIZE, IMAGE_SIZE)), transforms.ToTensor()])"
   ]
  },
  {
   "cell_type": "code",
   "execution_count": 79,
   "metadata": {},
   "outputs": [],
   "source": [
    "def show_data(data_sample):\n",
    "    plt.imshow(data_sample[0].numpy().reshape(16,16), cmap='gray')\n",
    "    plt.title('y = '+ str(data_sample[1]))"
   ]
  },
  {
   "cell_type": "code",
   "execution_count": 80,
   "metadata": {},
   "outputs": [],
   "source": [
    "train_set = torchvision.datasets.FashionMNIST(\"./data\", download=True, transform=composed)\n",
    "test_set = torchvision.datasets.FashionMNIST(\"./data\", download=True, train=False, transform=composed\n",
    "                                               )  \n"
   ]
  },
  {
   "cell_type": "code",
   "execution_count": 96,
   "metadata": {},
   "outputs": [
    {
     "data": {
      "image/png": "[encoded data removed]",
      "text/plain": [
       "<Figure size 432x288 with 1 Axes>"
      ]
     },
     "metadata": {
      "needs_background": "light"
     },
     "output_type": "display_data"
    },
    {
     "data": {
      "image/png": "[encoded data removed]",
      "text/plain": [
       "<Figure size 432x288 with 1 Axes>"
      ]
     },
     "metadata": {
      "needs_background": "light"
     },
     "output_type": "display_data"
    },
    {
     "data": {
      "image/png": "[encoded data removed]",
      "text/plain": [
       "<Figure size 432x288 with 1 Axes>"
      ]
     },
     "metadata": {
      "needs_background": "light"
     },
     "output_type": "display_data"
    }
   ],
   "source": [
    "for n,data_sample in enumerate(test_set):\n",
    "\n",
    "    show_data(data_sample)\n",
    "    plt.show()\n",
    "    if n==2:\n",
    "        break"
   ]
  },
  {
   "cell_type": "code",
   "execution_count": 82,
   "metadata": {},
   "outputs": [],
   "source": [
    "class model1(nn.Module):\n",
    "  def __init__(self,out_1=16, out_2=32):\n",
    "    super(model1, self).__init__()\n",
    "    self.layer1=Conv2d(in_channels=1, out_channels=out_1,kernel_size=5, padding=2)\n",
    "    self.batch1=BatchNorm2d(out_1)\n",
    "    self.max1=MaxPool2d(kernel_size=2)\n",
    "    \n",
    "    self.layer2=Conv2d(in_channels=out_1, out_channels=out_2,kernel_size=5, padding=2)\n",
    "    self.batch2=BatchNorm2d(out_2)\n",
    "    self.max2=MaxPool2d(kernel_size=2)\n",
    "    \n",
    "    self.layer3=Linear(out_2*4*4,10)\n",
    "    self.batch3=BatchNorm1d(10)\n",
    "  \n",
    "  def forward(self,x):\n",
    "    x=self.layer1(x)\n",
    "    x=self.batch1(x)\n",
    "    x=torch.relu(x)\n",
    "    x=self.max1(x)\n",
    "                \n",
    "    x=self.layer2(x)\n",
    "    x=self.batch2(x)\n",
    "    x=torch.relu(x)\n",
    "    x=self.max2(x)\n",
    "    \n",
    "    x = x.view(x.size(0), -1)\n",
    "    \n",
    "    x=self.layer3(x)\n",
    "    x=self.batch3(x)\n",
    "    \n",
    "    return x"
   ]
  },
  {
   "cell_type": "code",
   "execution_count": 83,
   "metadata": {},
   "outputs": [],
   "source": [
    "model = model1(out_1=16, out_2=32)"
   ]
  },
  {
   "cell_type": "code",
   "execution_count": 84,
   "metadata": {},
   "outputs": [],
   "source": [
    "criterion = nn.CrossEntropyLoss()\n",
    "learning_rate = 0.1\n",
    "optimizer = torch.optim.SGD(model.parameters(), lr = learning_rate)\n",
    "train_loader = torch.utils.data.DataLoader(dataset=train_set, batch_size=100)\n",
    "test_loader = torch.utils.data.DataLoader(dataset=test_set, batch_size=100)"
   ]
  },
  {
   "cell_type": "code",
   "execution_count": 85,
   "metadata": {},
   "outputs": [],
   "source": [
    "\n",
    "n_epochs=10\n",
    "cost_list=[]\n",
    "accuracy_list=[]\n",
    "N_test=len(test_set)\n",
    "COST=0\n",
    "for epoch in range(0,n_epochs):\n",
    "    COST=0\n",
    "    for x, y in train_loader:\n",
    "        optimizer.zero_grad()\n",
    "        z = model(x)\n",
    "        loss = criterion(z, y)\n",
    "        loss.backward()\n",
    "        optimizer.step()\n",
    "        COST+=loss.data\n",
    "        \n",
    "    cost_list.append(COST)\n",
    "    correct=0\n",
    "        #perform a prediction on the validation  data  \n",
    "    for x_test, y_test in test_loader:\n",
    "        z = model(x_test)\n",
    "        _, yhat = torch.max(z.data, 1)\n",
    "        correct += (yhat == y_test).sum().item()\n",
    "    accuracy = correct / N_test\n",
    "    accuracy_list.append(accuracy)"
   ]
  },
  {
   "cell_type": "code",
   "execution_count": 86,
   "metadata": {},
   "outputs": [
    {
     "name": "stdout",
     "output_type": "stream",
     "text": [
      "[0.8598, 0.8682, 0.8754, 0.8767, 0.8779, 0.8786, 0.8796, 0.8826, 0.8808, 0.883]\n",
      "tensor(134.2181)\n"
     ]
    }
   ],
   "source": [
    "print(accuracy_list)\n",
    "print(COST)"
   ]
  },
  {
   "cell_type": "code",
   "execution_count": 87,
   "metadata": {},
   "outputs": [
    {
     "data": {
      "image/png": "[encoded data removed]",
      "text/plain": [
       "<Figure size 432x288 with 2 Axes>"
      ]
     },
     "metadata": {
      "needs_background": "light"
     },
     "output_type": "display_data"
    }
   ],
   "source": [
    "a, b = plt.subplots()\n",
    "color = 'tab:red'\n",
    "b.plot(cost_list, color=color)\n",
    "b.set_xlabel('epoch', color=color)\n",
    "b.set_ylabel('Cost', color=color)\n",
    "b.tick_params(axis='y', color=color)\n",
    "    \n",
    "c = b.twinx()  \n",
    "color = 'tab:blue'\n",
    "c.set_ylabel('accuracy', color=color) \n",
    "c.set_xlabel('epoch', color=color)\n",
    "c.plot( accuracy_list, color=color)\n",
    "c.tick_params(axis='y', color=color)\n",
    "a.tight_layout()"
   ]
  }
 ],
 "metadata": {
  "interpreter": {
   "hash": "ee5cc6fef2d70a7e71ee3826687cbd150f18158e0b1eef11d4f4f92bb920e304"
  },
  "kernelspec": {
   "display_name": "Python 3.9.7 64-bit",
   "name": "python3"
  },
  "language_info": {
   "codemirror_mode": {
    "name": "ipython",
    "version": 3
   },
   "file_extension": ".py",
   "mimetype": "text/x-python",
   "name": "python",
   "nbconvert_exporter": "python",
   "pygments_lexer": "ipython3",
   "version": "3.9.7"
  },
  "orig_nbformat": 4
 },
 "nbformat": 4,
 "nbformat_minor": 2
}
