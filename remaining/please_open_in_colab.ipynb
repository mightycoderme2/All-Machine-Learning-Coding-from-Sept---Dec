{
  "nbformat": 4,
  "nbformat_minor": 0,
  "metadata": {
    "accelerator": "GPU",
    "colab": {
      "name": "please_open_in_colab.ipynb",
      "provenance": [],
      "collapsed_sections": []
    },
    "kernelspec": {
      "display_name": "Python 3",
      "name": "python3"
    },
    "language_info": {
      "name": "python"
    }
  },
  "cells": [
    {
      "cell_type": "code",
      "metadata": {
        "colab": {
          "base_uri": "https://localhost:8080/"
        },
        "id": "AyNRxFUj84UR",
        "outputId": "ee543c45-84c0-4826-ce20-ec068c83b693"
      },
      "source": [
        "# ATTENTION: Please do not alter any of the provided code in the exercise. Only add your own code where indicated\n",
        "# ATTENTION: Please do not add or remove any cells in the exercise. The grader will check specific cells based on the cell position.\n",
        "# ATTENTION: Please use the provided epoch values when training.\n",
        "\n",
        "import csv\n",
        "import numpy as np\n",
        "import tensorflow as tf\n",
        "from tensorflow.keras.preprocessing.image import ImageDataGenerator\n",
        "from os import getcwd\n",
        "# sign_mnist_train.csv\n",
        "!gdown -- https://drive.google.com/uc?id=1z0DkA9BytlLxO1C0BAWzknLyQmZAp0HR\n",
        "# sign_mnist_test.csv\n",
        "!gdown -- https://drive.google.com/uc?id=1z1BIj4qmri59GWBG4ivMNFtpZ4AXIbzg"
      ],
      "execution_count": 2,
      "outputs": [
        {
          "output_type": "stream",
          "name": "stdout",
          "text": [
            "Downloading...\n",
            "From: https://drive.google.com/uc?id=1z0DkA9BytlLxO1C0BAWzknLyQmZAp0HR\n",
            "To: /content/sign_mnist_train.csv\n",
            "100% 83.3M/83.3M [00:00<00:00, 162MB/s]\n",
            "Downloading...\n",
            "From: https://drive.google.com/uc?id=1z1BIj4qmri59GWBG4ivMNFtpZ4AXIbzg\n",
            "To: /content/sign_mnist_test.csv\n",
            "100% 21.8M/21.8M [00:00<00:00, 102MB/s] \n"
          ]
        }
      ]
    },
    {
      "cell_type": "code",
      "metadata": {
        "colab": {
          "base_uri": "https://localhost:8080/"
        },
        "id": "Lu5VW4pQmsTm",
        "outputId": "322cfa5a-132f-4225-8f0a-08177793afd6"
      },
      "source": [
        "\n",
        "def get_data(filename):\n",
        "\n",
        "    with open(filename) as training_file:\n",
        "        csv_reader = csv.reader(training_file, delimiter=',')\n",
        "        first_line = True\n",
        "        temp_images = []\n",
        "        temp_labels = []\n",
        "        for row in csv_reader:\n",
        "            if first_line:\n",
        "                first_line = False\n",
        "            else:\n",
        "                temp_labels.append(row[0])\n",
        "                image_data = row[1:785]\n",
        "                image_data_as_array = np.array_split(image_data, 28)\n",
        "                temp_images.append(image_data_as_array)\n",
        "        images = np.array(temp_images).astype('float')\n",
        "        labels = np.array(temp_labels).astype('float')\n",
        "    return images, labels\n",
        "\n",
        "\n",
        "training_images, training_labels = get_data('./sign_mnist_train.csv')\n",
        "testing_images, testing_labels = get_data('./sign_mnist_test.csv')\n",
        "\n",
        "print(training_images.shape)\n",
        "print(training_labels.shape)\n",
        "print(testing_images.shape)\n",
        "print(testing_labels.shape)\n",
        "\n",
        "# Their output should be:\n",
        "# (27455, 28, 28)\n",
        "# (27455,)\n",
        "# (7172, 28, 28)\n",
        "# (7172,)"
      ],
      "execution_count": 2,
      "outputs": [
        {
          "output_type": "stream",
          "name": "stdout",
          "text": [
            "(27455, 28, 28)\n",
            "(27455,)\n",
            "(7172, 28, 28)\n",
            "(7172,)\n"
          ]
        }
      ]
    },
    {
      "cell_type": "code",
      "metadata": {
        "colab": {
          "base_uri": "https://localhost:8080/"
        },
        "id": "fvikLtbX9MbG",
        "outputId": "0c72791c-b81b-4dc6-d915-15787ad25999"
      },
      "source": [
        "\n",
        "\n",
        "training_images = np.expand_dims(training_images, axis=3)\n",
        "testing_images = np.expand_dims(testing_images, axis=3)\n",
        "\n",
        "\n",
        "train_datagen = ImageDataGenerator(\n",
        "    rescale=1. / 255,\n",
        "    rotation_range=40,\n",
        "    width_shift_range=0.2,\n",
        "    height_shift_range=0.2,\n",
        "    shear_range=0.2,\n",
        "    zoom_range=0.2,\n",
        "    horizontal_flip=True,\n",
        "    fill_mode='nearest'\n",
        "    )\n",
        "\n",
        "validation_datagen = ImageDataGenerator(rescale=1./255.)\n",
        "\n",
        "print(training_images.shape)\n",
        "print(testing_images.shape)\n",
        "    \n",
        "# Their output should be:\n",
        "# (27455, 28, 28, 1)\n",
        "# (7172, 28, 28, 1)"
      ],
      "execution_count": 3,
      "outputs": [
        {
          "output_type": "stream",
          "name": "stdout",
          "text": [
            "(27455, 28, 28, 1)\n",
            "(7172, 28, 28, 1)\n"
          ]
        }
      ]
    },
    {
      "cell_type": "code",
      "metadata": {
        "colab": {
          "base_uri": "https://localhost:8080/"
        },
        "id": "KX8DkwhV-MEE",
        "outputId": "cc87a595-08cc-4d90-cec4-74771f2a9fca"
      },
      "source": [
        "model = tf.keras.models.Sequential([                               \n",
        "    tf.keras.layers.Conv2D(64, (3, 3), activation='relu', input_shape=(28, 28, 1)),\n",
        "    tf.keras.layers.MaxPooling2D(2, 2),\n",
        "    tf.keras.layers.Conv2D(64, (3, 3), activation='relu'),\n",
        "    tf.keras.layers.MaxPooling2D(2, 2),\n",
        "    tf.keras.layers.Flatten(),\n",
        "    tf.keras.layers.Dense(128, activation=tf.nn.relu),\n",
        "    tf.keras.layers.Dense(26, activation=tf.nn.softmax)]\n",
        "    )\n",
        "\n",
        "model.compile(optimizer = tf.optimizers.Adam(),\n",
        "              loss = 'sparse_categorical_crossentropy',\n",
        "              metrics=['accuracy'])\n",
        "\n",
        "history = model.fit(train_datagen.flow(training_images, training_labels, batch_size=32),\n",
        "                              steps_per_epoch=len(training_images) / 32,\n",
        "                              epochs=15,\n",
        "                              validation_data=validation_datagen.flow(testing_images, testing_labels, batch_size=32),\n",
        "                              validation_steps=len(testing_images) / 32)\n",
        "\n",
        "model.evaluate(testing_images, testing_labels)\n"
      ],
      "execution_count": 4,
      "outputs": [
        {
          "output_type": "stream",
          "name": "stdout",
          "text": [
            "Epoch 1/15\n",
            "857/857 [==============================] - 30s 19ms/step - loss: 2.7503 - accuracy: 0.1661 - val_loss: 1.8716 - val_accuracy: 0.4112\n",
            "Epoch 2/15\n",
            "857/857 [==============================] - 16s 19ms/step - loss: 1.9977 - accuracy: 0.3709 - val_loss: 1.2650 - val_accuracy: 0.5482\n",
            "Epoch 3/15\n",
            "857/857 [==============================] - 17s 19ms/step - loss: 1.6177 - accuracy: 0.4810 - val_loss: 0.9914 - val_accuracy: 0.6762\n",
            "Epoch 4/15\n",
            "857/857 [==============================] - 17s 19ms/step - loss: 1.3680 - accuracy: 0.5530 - val_loss: 0.9738 - val_accuracy: 0.6899\n",
            "Epoch 5/15\n",
            "857/857 [==============================] - 16s 19ms/step - loss: 1.1909 - accuracy: 0.6093 - val_loss: 0.8667 - val_accuracy: 0.6976\n",
            "Epoch 6/15\n",
            "857/857 [==============================] - 17s 19ms/step - loss: 1.1013 - accuracy: 0.6372 - val_loss: 0.6901 - val_accuracy: 0.7362\n",
            "Epoch 7/15\n",
            "857/857 [==============================] - 17s 19ms/step - loss: 1.0058 - accuracy: 0.6660 - val_loss: 0.6434 - val_accuracy: 0.7762\n",
            "Epoch 8/15\n",
            "857/857 [==============================] - 17s 19ms/step - loss: 0.9415 - accuracy: 0.6885 - val_loss: 0.5612 - val_accuracy: 0.7950\n",
            "Epoch 9/15\n",
            "857/857 [==============================] - 16s 19ms/step - loss: 0.8778 - accuracy: 0.7070 - val_loss: 0.4568 - val_accuracy: 0.8344\n",
            "Epoch 10/15\n",
            "857/857 [==============================] - 17s 19ms/step - loss: 0.8288 - accuracy: 0.7256 - val_loss: 0.3872 - val_accuracy: 0.8618\n",
            "Epoch 11/15\n",
            "857/857 [==============================] - 17s 20ms/step - loss: 0.7878 - accuracy: 0.7379 - val_loss: 0.4339 - val_accuracy: 0.8555\n",
            "Epoch 12/15\n",
            "857/857 [==============================] - 17s 20ms/step - loss: 0.7498 - accuracy: 0.7477 - val_loss: 0.3633 - val_accuracy: 0.8721\n",
            "Epoch 13/15\n",
            "857/857 [==============================] - 17s 20ms/step - loss: 0.7197 - accuracy: 0.7572 - val_loss: 0.3003 - val_accuracy: 0.9021\n",
            "Epoch 14/15\n",
            "857/857 [==============================] - 16s 19ms/step - loss: 0.6781 - accuracy: 0.7751 - val_loss: 0.3199 - val_accuracy: 0.8730\n",
            "Epoch 15/15\n",
            "857/857 [==============================] - 16s 19ms/step - loss: 0.6601 - accuracy: 0.7764 - val_loss: 0.2582 - val_accuracy: 0.9057\n",
            "225/225 [==============================] - 1s 5ms/step - loss: 150.6167 - accuracy: 0.6843\n"
          ]
        },
        {
          "output_type": "execute_result",
          "data": {
            "text/plain": [
              "[150.61669921875, 0.6843279600143433]"
            ]
          },
          "metadata": {},
          "execution_count": 4
        }
      ]
    },
    {
      "cell_type": "code",
      "metadata": {
        "id": "um8B-2ZnkfpD"
      },
      "source": [
        ""
      ],
      "execution_count": null,
      "outputs": []
    },
    {
      "cell_type": "code",
      "metadata": {
        "colab": {
          "base_uri": "https://localhost:8080/",
          "height": 545
        },
        "id": "g3hsFW-eAOCC",
        "outputId": "d2f71bf9-a449-4b6c-9ad9-61f91dbc9d8e"
      },
      "source": [
        "# Plot the chart for accuracy and loss on both training and validation\n",
        "%matplotlib inline\n",
        "import matplotlib.pyplot as plt\n",
        "acc = history.history['accuracy']\n",
        "val_acc = history.history['val_accuracy']\n",
        "loss = history.history['loss']\n",
        "val_loss = history.history['val_loss']\n",
        "\n",
        "epochs = range(len(acc))\n",
        "\n",
        "plt.plot(epochs, acc, 'r', label='Training accuracy')\n",
        "plt.plot(epochs, val_acc, 'b', label='Validation accuracy')\n",
        "plt.title('Training and validation accuracy')\n",
        "plt.legend()\n",
        "plt.figure()\n",
        "\n",
        "plt.plot(epochs, loss, 'r', label='Training Loss')\n",
        "plt.plot(epochs, val_loss, 'b', label='Validation Loss')\n",
        "plt.title('Training and validation loss')\n",
        "plt.legend()\n",
        "\n",
        "plt.show()"
      ],
      "execution_count": 5,
      "outputs": [
        {
          "output_type": "display_data",
          "data": {
            "image/png": "[encoded data removed]",
            "text/plain": [
              "<Figure size 432x288 with 1 Axes>"
            ]
          },
          "metadata": {
            "needs_background": "light"
          }
        },
        {
          "output_type": "display_data",
          "data": {
            "image/png": "[encoded data removed]",
            "text/plain": [
              "<Figure size 432x288 with 1 Axes>"
            ]
          },
          "metadata": {
            "needs_background": "light"
          }
        }
      ]
    }
  ]
}