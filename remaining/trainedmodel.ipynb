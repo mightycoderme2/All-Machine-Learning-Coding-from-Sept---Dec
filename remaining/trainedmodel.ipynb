{
  "nbformat": 4,
  "nbformat_minor": 0,
  "metadata": {
    "colab": {
      "name": "trainedmodel.ipynb",
      "provenance": []
    },
    "kernelspec": {
      "name": "python3",
      "display_name": "Python 3"
    },
    "language_info": {
      "name": "python"
    },
    "accelerator": "GPU"
  },
  "cells": [
    {
      "cell_type": "code",
      "metadata": {
        "id": "zPdAesXVn_9Y"
      },
      "source": [
        "import tensorflow as tf\n",
        "from tensorflow.keras.preprocessing.text import Tokenizer\n",
        "from tensorflow.keras.preprocessing.sequence import pad_sequences\n",
        "import tensorflow_datasets as tfds\n",
        "from tensorflow.keras.layers import Dense,Flatten,Embedding,Conv2D,MaxPooling2D,Dropout\n",
        "from tensorflow.keras.datasets import fashion_mnist\n",
        "from tensorflow.keras.models import Sequential\n",
        "import numpy as np\n",
        "import matplotlib.pyplot as plt\n",
        "from tensorflow.keras.optimizers import Adam\n",
        "import pandas as pd\n",
        "from tensorflow.keras.callbacks import Callback\n",
        "import os \n",
        "import zipfile\n",
        "from tensorflow.keras import Model\n",
        "from tensorflow.keras.optimizers import RMSprop\n",
        "from tensorflow.keras.preprocessing.image import ImageDataGenerator\n"
      ],
      "execution_count": 13,
      "outputs": []
    },
    {
      "cell_type": "code",
      "metadata": {
        "colab": {
          "base_uri": "https://localhost:8080/"
        },
        "id": "DNr9zCn_pUTN",
        "outputId": "0f90b4eb-a141-4828-a797-94b1e8c70241"
      },
      "source": [
        "\n",
        "!wget --no-check-certificate \\\n",
        "    https://storage.googleapis.com/mledu-datasets/inception_v3_weights_tf_dim_ordering_tf_kernels_notop.h5 \\\n",
        "    -O /tmp/inception_v3_weights_tf_dim_ordering_tf_kernels_notop.h5\n",
        "  "
      ],
      "execution_count": 2,
      "outputs": [
        {
          "output_type": "stream",
          "name": "stdout",
          "text": [
            "--2021-11-16 02:48:53--  https://storage.googleapis.com/mledu-datasets/inception_v3_weights_tf_dim_ordering_tf_kernels_notop.h5\n",
            "Resolving storage.googleapis.com (storage.googleapis.com)... 74.125.133.128, 74.125.140.128, 173.194.76.128, ...\n",
            "Connecting to storage.googleapis.com (storage.googleapis.com)|74.125.133.128|:443... connected.\n",
            "HTTP request sent, awaiting response... 200 OK\n",
            "Length: 87910968 (84M) [application/x-hdf]\n",
            "Saving to: ‘/tmp/inception_v3_weights_tf_dim_ordering_tf_kernels_notop.h5’\n",
            "\n",
            "/tmp/inception_v3_w 100%[===================>]  83.84M  35.3MB/s    in 2.4s    \n",
            "\n",
            "2021-11-16 02:48:56 (35.3 MB/s) - ‘/tmp/inception_v3_weights_tf_dim_ordering_tf_kernels_notop.h5’ saved [87910968/87910968]\n",
            "\n"
          ]
        }
      ]
    },
    {
      "cell_type": "code",
      "metadata": {
        "id": "-9tVEZUWpW5s"
      },
      "source": [
        "from tensorflow.keras.applications.inception_v3 import InceptionV3\n"
      ],
      "execution_count": 3,
      "outputs": []
    },
    {
      "cell_type": "code",
      "metadata": {
        "id": "Vm6MaqQSpbF-"
      },
      "source": [
        "local_weights_file = '/tmp/inception_v3_weights_tf_dim_ordering_tf_kernels_notop.h5'"
      ],
      "execution_count": 4,
      "outputs": []
    },
    {
      "cell_type": "code",
      "metadata": {
        "colab": {
          "base_uri": "https://localhost:8080/"
        },
        "id": "derbsOLupepL",
        "outputId": "c768bd5a-21c9-42ef-d15a-cea15de084fa"
      },
      "source": [
        "model=InceptionV3(input_shape=(150,150,3),include_top=False,weights=None)\n",
        "model.load_weights(local_weights_file)\n",
        "for layer in model.layers:\n",
        "  layer.trainable = False\n",
        "last_layer = model.get_layer('mixed7')\n",
        "print('last layer output shape: ', last_layer.output_shape)\n",
        "last_output = last_layer.output"
      ],
      "execution_count": 6,
      "outputs": [
        {
          "output_type": "stream",
          "name": "stdout",
          "text": [
            "last layer output shape:  (None, 7, 7, 768)\n"
          ]
        }
      ]
    },
    {
      "cell_type": "code",
      "metadata": {
        "colab": {
          "base_uri": "https://localhost:8080/"
        },
        "id": "TjRVHzKSp0R3",
        "outputId": "5416ec2f-99b7-45f8-e88c-e54015e65d91"
      },
      "source": [
        "x = Flatten()(last_output)\n",
        "# Add a fully connected layer with 1,024 hidden units and ReLU activation\n",
        "x = Dense(1024, activation='relu')(x)\n",
        "# Add a dropout rate of 0.2\n",
        "x = Dropout(0.2)(x)                  \n",
        "# Add a final sigmoid layer for classification\n",
        "x = Dense  (1, activation='sigmoid')(x)   \n",
        "print(x)"
      ],
      "execution_count": 11,
      "outputs": [
        {
          "output_type": "stream",
          "name": "stdout",
          "text": [
            "KerasTensor(type_spec=TensorSpec(shape=(None, 1), dtype=tf.float32, name=None), name='dense_3/Sigmoid:0', description=\"created by layer 'dense_3'\")\n"
          ]
        }
      ]
    },
    {
      "cell_type": "code",
      "metadata": {
        "id": "4CEZdY--rYSm"
      },
      "source": [
        "model = Model( model.input, x) \n",
        "\n",
        "model.compile(optimizer = RMSprop(learning_rate=0.0001), \n",
        "              loss = 'binary_crossentropy', \n",
        "              metrics = ['accuracy'])\n"
      ],
      "execution_count": 14,
      "outputs": []
    },
    {
      "cell_type": "code",
      "metadata": {
        "colab": {
          "base_uri": "https://localhost:8080/"
        },
        "id": "MmNEJaEBrjb4",
        "outputId": "1ad4968c-727f-40f6-8f38-cb43bfdccb3c"
      },
      "source": [
        "!gdown --id 1RL0T7Rg4XqQNRCkjfnLo4goOJQ7XZro9\n",
        "\n",
        "from tensorflow.keras.preprocessing.image import ImageDataGenerator\n",
        "\n",
        "import os\n",
        "import zipfile\n",
        "\n",
        "zip_ref = zipfile.ZipFile(\"./cats_and_dogs_filtered.zip\", 'r')\n",
        "zip_ref.extractall(\"tmp/\")\n",
        "zip_ref.close()\n",
        "\n",
        "# Define our example directories and files\n",
        "base_dir = 'tmp/cats_and_dogs_filtered'\n",
        "\n",
        "train_dir = os.path.join( base_dir, 'train')\n",
        "validation_dir = os.path.join( base_dir, 'validation')\n",
        "\n",
        "\n",
        "train_cats_dir = os.path.join(train_dir, 'cats') # Directory with our training cat pictures\n",
        "train_dogs_dir = os.path.join(train_dir, 'dogs') # Directory with our training dog pictures\n",
        "validation_cats_dir = os.path.join(validation_dir, 'cats') # Directory with our validation cat pictures\n",
        "validation_dogs_dir = os.path.join(validation_dir, 'dogs')# Directory with our validation dog pictures\n",
        "\n",
        "train_cat_fnames = os.listdir(train_cats_dir)\n",
        "train_dog_fnames = os.listdir(train_dogs_dir)\n",
        "\n",
        "# Add our data-augmentation parameters to ImageDataGenerator\n",
        "train_datagen = ImageDataGenerator(rescale = 1./255.,\n",
        "                                   rotation_range = 40,\n",
        "                                   width_shift_range = 0.2,\n",
        "                                   height_shift_range = 0.2,\n",
        "                                   shear_range = 0.2,\n",
        "                                   zoom_range = 0.2,\n",
        "                                   horizontal_flip = True)\n",
        "\n",
        "# Note that the validation data should not be augmented!\n",
        "test_datagen = ImageDataGenerator( rescale = 1.0/255. )\n",
        "\n",
        "# Flow training images in batches of 20 using train_datagen generator\n",
        "train_generator = train_datagen.flow_from_directory(train_dir,\n",
        "                                                    batch_size = 20,\n",
        "                                                    class_mode = 'binary', \n",
        "                                                    target_size = (150, 150))     \n",
        "\n",
        "# Flow validation images in batches of 20 using test_datagen generator\n",
        "validation_generator =  test_datagen.flow_from_directory( validation_dir,\n",
        "                                                          batch_size  = 20,\n",
        "                                                          class_mode  = 'binary', \n",
        "                                                          target_size = (150, 150))"
      ],
      "execution_count": 15,
      "outputs": [
        {
          "output_type": "stream",
          "name": "stdout",
          "text": [
            "Downloading...\n",
            "From: https://drive.google.com/uc?id=1RL0T7Rg4XqQNRCkjfnLo4goOJQ7XZro9\n",
            "To: /content/cats_and_dogs_filtered.zip\n",
            "100% 68.6M/68.6M [00:02<00:00, 27.2MB/s]\n",
            "Found 2000 images belonging to 2 classes.\n",
            "Found 1000 images belonging to 2 classes.\n"
          ]
        }
      ]
    },
    {
      "cell_type": "code",
      "metadata": {
        "colab": {
          "base_uri": "https://localhost:8080/"
        },
        "id": "iOkRsTmnrk3D",
        "outputId": "5765718b-68ea-483d-f9f4-9f17526ace25"
      },
      "source": [
        "history = model.fit(\n",
        "            train_generator,\n",
        "            validation_data = validation_generator,\n",
        "            steps_per_epoch = 100,\n",
        "            epochs = 20,\n",
        "            validation_steps = 50,\n",
        "            verbose = 2)"
      ],
      "execution_count": 16,
      "outputs": [
        {
          "output_type": "stream",
          "name": "stdout",
          "text": [
            "Epoch 1/20\n",
            "100/100 - 57s - loss: 0.3468 - accuracy: 0.8635 - val_loss: 0.1796 - val_accuracy: 0.9310 - 57s/epoch - 569ms/step\n",
            "Epoch 2/20\n",
            "100/100 - 22s - loss: 0.2249 - accuracy: 0.9065 - val_loss: 0.1523 - val_accuracy: 0.9410 - 22s/epoch - 223ms/step\n",
            "Epoch 3/20\n",
            "100/100 - 23s - loss: 0.2095 - accuracy: 0.9240 - val_loss: 0.1084 - val_accuracy: 0.9640 - 23s/epoch - 228ms/step\n",
            "Epoch 4/20\n",
            "100/100 - 22s - loss: 0.1977 - accuracy: 0.9285 - val_loss: 0.0957 - val_accuracy: 0.9620 - 22s/epoch - 222ms/step\n",
            "Epoch 5/20\n",
            "100/100 - 23s - loss: 0.1682 - accuracy: 0.9390 - val_loss: 0.0935 - val_accuracy: 0.9720 - 23s/epoch - 227ms/step\n",
            "Epoch 6/20\n",
            "100/100 - 22s - loss: 0.1864 - accuracy: 0.9395 - val_loss: 0.1410 - val_accuracy: 0.9500 - 22s/epoch - 222ms/step\n",
            "Epoch 7/20\n",
            "100/100 - 22s - loss: 0.1777 - accuracy: 0.9405 - val_loss: 0.1550 - val_accuracy: 0.9530 - 22s/epoch - 224ms/step\n",
            "Epoch 8/20\n",
            "100/100 - 22s - loss: 0.1666 - accuracy: 0.9425 - val_loss: 0.1472 - val_accuracy: 0.9600 - 22s/epoch - 221ms/step\n",
            "Epoch 9/20\n",
            "100/100 - 22s - loss: 0.1940 - accuracy: 0.9355 - val_loss: 0.1244 - val_accuracy: 0.9610 - 22s/epoch - 218ms/step\n",
            "Epoch 10/20\n",
            "100/100 - 23s - loss: 0.1661 - accuracy: 0.9445 - val_loss: 0.1378 - val_accuracy: 0.9560 - 23s/epoch - 227ms/step\n",
            "Epoch 11/20\n",
            "100/100 - 22s - loss: 0.1618 - accuracy: 0.9450 - val_loss: 0.1287 - val_accuracy: 0.9590 - 22s/epoch - 224ms/step\n",
            "Epoch 12/20\n",
            "100/100 - 23s - loss: 0.1400 - accuracy: 0.9480 - val_loss: 0.1250 - val_accuracy: 0.9690 - 23s/epoch - 230ms/step\n",
            "Epoch 13/20\n",
            "100/100 - 22s - loss: 0.1368 - accuracy: 0.9550 - val_loss: 0.1374 - val_accuracy: 0.9660 - 22s/epoch - 223ms/step\n",
            "Epoch 14/20\n",
            "100/100 - 22s - loss: 0.1632 - accuracy: 0.9475 - val_loss: 0.1617 - val_accuracy: 0.9540 - 22s/epoch - 223ms/step\n",
            "Epoch 15/20\n",
            "100/100 - 22s - loss: 0.1435 - accuracy: 0.9530 - val_loss: 0.1191 - val_accuracy: 0.9730 - 22s/epoch - 218ms/step\n",
            "Epoch 16/20\n",
            "100/100 - 22s - loss: 0.1417 - accuracy: 0.9510 - val_loss: 0.1271 - val_accuracy: 0.9640 - 22s/epoch - 219ms/step\n",
            "Epoch 17/20\n",
            "100/100 - 22s - loss: 0.1582 - accuracy: 0.9475 - val_loss: 0.1323 - val_accuracy: 0.9630 - 22s/epoch - 218ms/step\n",
            "Epoch 18/20\n",
            "100/100 - 22s - loss: 0.1410 - accuracy: 0.9515 - val_loss: 0.1130 - val_accuracy: 0.9690 - 22s/epoch - 220ms/step\n",
            "Epoch 19/20\n",
            "100/100 - 23s - loss: 0.1408 - accuracy: 0.9515 - val_loss: 0.1217 - val_accuracy: 0.9670 - 23s/epoch - 228ms/step\n",
            "Epoch 20/20\n",
            "100/100 - 22s - loss: 0.1017 - accuracy: 0.9640 - val_loss: 0.1641 - val_accuracy: 0.9590 - 22s/epoch - 220ms/step\n"
          ]
        }
      ]
    },
    {
      "cell_type": "code",
      "metadata": {
        "colab": {
          "base_uri": "https://localhost:8080/",
          "height": 298
        },
        "id": "c_lvQE3LrmAc",
        "outputId": "475ca90f-9466-48ea-bc47-ce2795ac6649"
      },
      "source": [
        "import matplotlib.pyplot as plt\n",
        "acc = history.history['accuracy']\n",
        "val_acc = history.history['val_accuracy']\n",
        "loss = history.history['loss']\n",
        "val_loss = history.history['val_loss']\n",
        "\n",
        "epochs = range(len(acc))\n",
        "\n",
        "plt.plot(epochs, acc, 'r', label='Training accuracy')\n",
        "plt.plot(epochs, val_acc, 'b', label='Validation accuracy')\n",
        "plt.title('Training and validation accuracy')\n",
        "plt.legend(loc=0)\n",
        "plt.figure()\n",
        "\n",
        "\n",
        "plt.show()"
      ],
      "execution_count": 17,
      "outputs": [
        {
          "output_type": "display_data",
          "data": {
            "image/png": "[encoded data removed]",
            "text/plain": [
              "<Figure size 432x288 with 1 Axes>"
            ]
          },
          "metadata": {
            "needs_background": "light"
          }
        },
        {
          "output_type": "display_data",
          "data": {
            "text/plain": [
              "<Figure size 432x288 with 0 Axes>"
            ]
          },
          "metadata": {}
        }
      ]
    },
    {
      "cell_type": "code",
      "metadata": {
        "id": "om7kr_4Jt2Ol"
      },
      "source": [
        ""
      ],
      "execution_count": null,
      "outputs": []
    }
  ]
}