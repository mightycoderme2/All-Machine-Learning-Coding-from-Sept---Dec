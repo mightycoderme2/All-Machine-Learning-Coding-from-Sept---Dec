{
 "cells": [
  {
   "cell_type": "code",
   "execution_count": 2,
   "source": [
    "import numpy as np \r\n",
    "import pandas as pd\r\n",
    "\r\n",
    "from sklearn  import preprocessing\r\n",
    "\r\n",
    "from sklearn.model_selection import train_test_split\r\n",
    "\r\n",
    "from sklearn.tree import DecisionTreeClassifier\r\n",
    "\r\n",
    "a=pd.read_csv(\"loan_train.csv\")\r\n",
    "\r\n",
    "a.head()\r\n",
    "a['due_date'] = pd.to_datetime(a['due_date'])\r\n",
    "a['effective_date'] = pd.to_datetime(a['effective_date'])\r\n",
    "a[['effective_date', 'due_date']].head(3)\r\n",
    "a['dayofweek'] = a['effective_date'].dt.dayofweek # Monday:0, Sunday:6a\r\n",
    "a.head(3)\r\n",
    "a['weekend'] = a['dayofweek'].apply(lambda x: 1 if (x>3)  else 0)\r\n",
    "a.head()"
   ],
   "outputs": [
    {
     "output_type": "execute_result",
     "data": {
      "text/html": [
       "<div>\n",
       "<style scoped>\n",
       "    .dataframe tbody tr th:only-of-type {\n",
       "        vertical-align: middle;\n",
       "    }\n",
       "\n",
       "    .dataframe tbody tr th {\n",
       "        vertical-align: top;\n",
       "    }\n",
       "\n",
       "    .dataframe thead th {\n",
       "        text-align: right;\n",
       "    }\n",
       "</style>\n",
       "<table border=\"1\" class=\"dataframe\">\n",
       "  <thead>\n",
       "    <tr style=\"text-align: right;\">\n",
       "      <th></th>\n",
       "      <th>user_id</th>\n",
       "      <th>Un_named</th>\n",
       "      <th>loan_status</th>\n",
       "      <th>Principal</th>\n",
       "      <th>terms</th>\n",
       "      <th>effective_date</th>\n",
       "      <th>due_date</th>\n",
       "      <th>age</th>\n",
       "      <th>education</th>\n",
       "      <th>Gender</th>\n",
       "      <th>dayofweek</th>\n",
       "      <th>weekend</th>\n",
       "    </tr>\n",
       "  </thead>\n",
       "  <tbody>\n",
       "    <tr>\n",
       "      <th>0</th>\n",
       "      <td>0</td>\n",
       "      <td>0</td>\n",
       "      <td>PAIDOFF</td>\n",
       "      <td>1000</td>\n",
       "      <td>30</td>\n",
       "      <td>2016-09-08</td>\n",
       "      <td>2016-10-07</td>\n",
       "      <td>45</td>\n",
       "      <td>High School or Below</td>\n",
       "      <td>male</td>\n",
       "      <td>3</td>\n",
       "      <td>0</td>\n",
       "    </tr>\n",
       "    <tr>\n",
       "      <th>1</th>\n",
       "      <td>2</td>\n",
       "      <td>2</td>\n",
       "      <td>PAIDOFF</td>\n",
       "      <td>1000</td>\n",
       "      <td>30</td>\n",
       "      <td>2016-09-08</td>\n",
       "      <td>2016-10-07</td>\n",
       "      <td>33</td>\n",
       "      <td>Bechalor</td>\n",
       "      <td>female</td>\n",
       "      <td>3</td>\n",
       "      <td>0</td>\n",
       "    </tr>\n",
       "    <tr>\n",
       "      <th>2</th>\n",
       "      <td>3</td>\n",
       "      <td>3</td>\n",
       "      <td>PAIDOFF</td>\n",
       "      <td>1000</td>\n",
       "      <td>15</td>\n",
       "      <td>2016-09-08</td>\n",
       "      <td>2016-09-22</td>\n",
       "      <td>27</td>\n",
       "      <td>college</td>\n",
       "      <td>male</td>\n",
       "      <td>3</td>\n",
       "      <td>0</td>\n",
       "    </tr>\n",
       "    <tr>\n",
       "      <th>3</th>\n",
       "      <td>4</td>\n",
       "      <td>4</td>\n",
       "      <td>PAIDOFF</td>\n",
       "      <td>1000</td>\n",
       "      <td>30</td>\n",
       "      <td>2016-09-09</td>\n",
       "      <td>2016-10-08</td>\n",
       "      <td>28</td>\n",
       "      <td>college</td>\n",
       "      <td>female</td>\n",
       "      <td>4</td>\n",
       "      <td>1</td>\n",
       "    </tr>\n",
       "    <tr>\n",
       "      <th>4</th>\n",
       "      <td>6</td>\n",
       "      <td>6</td>\n",
       "      <td>PAIDOFF</td>\n",
       "      <td>1000</td>\n",
       "      <td>30</td>\n",
       "      <td>2016-09-09</td>\n",
       "      <td>2016-10-08</td>\n",
       "      <td>29</td>\n",
       "      <td>college</td>\n",
       "      <td>male</td>\n",
       "      <td>4</td>\n",
       "      <td>1</td>\n",
       "    </tr>\n",
       "  </tbody>\n",
       "</table>\n",
       "</div>"
      ],
      "text/plain": [
       "   user_id  Un_named loan_status  Principal  terms effective_date   due_date  \\\n",
       "0        0         0     PAIDOFF       1000     30     2016-09-08 2016-10-07   \n",
       "1        2         2     PAIDOFF       1000     30     2016-09-08 2016-10-07   \n",
       "2        3         3     PAIDOFF       1000     15     2016-09-08 2016-09-22   \n",
       "3        4         4     PAIDOFF       1000     30     2016-09-09 2016-10-08   \n",
       "4        6         6     PAIDOFF       1000     30     2016-09-09 2016-10-08   \n",
       "\n",
       "   age             education  Gender  dayofweek  weekend  \n",
       "0   45  High School or Below    male          3        0  \n",
       "1   33              Bechalor  female          3        0  \n",
       "2   27               college    male          3        0  \n",
       "3   28               college  female          4        1  \n",
       "4   29               college    male          4        1  "
      ]
     },
     "metadata": {},
     "execution_count": 2
    }
   ],
   "metadata": {}
  },
  {
   "cell_type": "code",
   "execution_count": 3,
   "source": [
    "df=a[['Principal','terms','age','education','Gender','dayofweek','weekend']].values\r\n",
    "df"
   ],
   "outputs": [
    {
     "output_type": "execute_result",
     "data": {
      "text/plain": [
       "array([[1000, 30, 45, ..., 'male', 3, 0],\n",
       "       [1000, 30, 33, ..., 'female', 3, 0],\n",
       "       [1000, 15, 27, ..., 'male', 3, 0],\n",
       "       ...,\n",
       "       [800, 15, 39, ..., 'male', 0, 0],\n",
       "       [1000, 30, 28, ..., 'male', 0, 0],\n",
       "       [1000, 30, 26, ..., 'male', 0, 0]], dtype=object)"
      ]
     },
     "metadata": {},
     "execution_count": 3
    }
   ],
   "metadata": {}
  },
  {
   "cell_type": "code",
   "execution_count": 4,
   "source": [
    "df[:,4]=preprocessing.LabelEncoder().fit(['male', 'female']).transform(df[:,4])"
   ],
   "outputs": [],
   "metadata": {}
  },
  {
   "cell_type": "code",
   "execution_count": 5,
   "source": [
    "df[:,3]=preprocessing.LabelEncoder().fit(['High School or Below','Bechalor','college','Master or Above']).transform(df[:,3])\r\n"
   ],
   "outputs": [],
   "metadata": {}
  },
  {
   "cell_type": "code",
   "execution_count": 6,
   "source": [
    "y=a[['loan_status']]\r\n",
    "y=preprocessing.LabelEncoder().fit(['COLLECTION', 'PAIDOFF']).transform(y)"
   ],
   "outputs": [
    {
     "output_type": "stream",
     "name": "stderr",
     "text": [
      "C:\\Python\\Python39\\lib\\site-packages\\sklearn\\utils\\validation.py:63: DataConversionWarning: A column-vector y was passed when a 1d array was expected. Please change the shape of y to (n_samples, ), for example using ravel().\n",
      "  return f(*args, **kwargs)\n"
     ]
    }
   ],
   "metadata": {}
  },
  {
   "cell_type": "code",
   "execution_count": 7,
   "source": [
    "x11,x21,y11,y21=train_test_split(df,y,test_size=0.2,random_state=4)\r\n",
    "y11\r\n",
    "x21"
   ],
   "outputs": [
    {
     "output_type": "execute_result",
     "data": {
      "text/plain": [
       "array([[1000, 30, 30, 1, 1, 6, 1],\n",
       "       [800, 15, 30, 3, 1, 6, 1],\n",
       "       [1000, 15, 31, 1, 1, 0, 0],\n",
       "       [1000, 30, 24, 3, 1, 0, 0],\n",
       "       [1000, 30, 34, 3, 1, 0, 0],\n",
       "       [1000, 15, 27, 1, 1, 0, 0],\n",
       "       [1000, 30, 36, 1, 1, 6, 1],\n",
       "       [1000, 30, 40, 1, 1, 5, 1],\n",
       "       [1000, 30, 24, 3, 1, 0, 0],\n",
       "       [1000, 15, 20, 3, 1, 6, 1],\n",
       "       [1000, 30, 26, 3, 1, 0, 0],\n",
       "       [1000, 30, 30, 3, 1, 6, 1],\n",
       "       [500, 15, 23, 3, 0, 0, 0],\n",
       "       [1000, 30, 27, 1, 1, 0, 0],\n",
       "       [1000, 15, 45, 1, 1, 6, 1],\n",
       "       [1000, 7, 26, 0, 0, 0, 0],\n",
       "       [1000, 30, 22, 1, 1, 6, 1],\n",
       "       [1000, 15, 30, 3, 1, 0, 0],\n",
       "       [1000, 30, 28, 3, 1, 4, 1],\n",
       "       [1000, 30, 37, 1, 1, 2, 0],\n",
       "       [1000, 30, 33, 3, 0, 6, 1],\n",
       "       [1000, 30, 31, 3, 1, 6, 1],\n",
       "       [1000, 30, 26, 1, 1, 6, 1],\n",
       "       [1000, 30, 24, 1, 0, 6, 1],\n",
       "       [900, 7, 26, 3, 0, 5, 1],\n",
       "       [1000, 30, 28, 1, 1, 6, 1],\n",
       "       [1000, 30, 27, 1, 1, 6, 1],\n",
       "       [800, 15, 46, 1, 0, 6, 1],\n",
       "       [1000, 30, 27, 3, 1, 6, 1],\n",
       "       [1000, 15, 37, 3, 0, 1, 0],\n",
       "       [1000, 15, 30, 3, 1, 6, 1],\n",
       "       [1000, 30, 26, 3, 0, 6, 1],\n",
       "       [800, 15, 26, 3, 1, 5, 1],\n",
       "       [1000, 30, 35, 3, 1, 6, 1],\n",
       "       [800, 15, 35, 0, 0, 6, 1],\n",
       "       [1000, 15, 34, 3, 1, 6, 1],\n",
       "       [1000, 30, 28, 3, 1, 6, 1],\n",
       "       [1000, 7, 31, 3, 1, 1, 0],\n",
       "       [1000, 30, 30, 1, 0, 6, 1],\n",
       "       [1000, 30, 44, 0, 1, 6, 1],\n",
       "       [1000, 30, 26, 3, 1, 5, 1],\n",
       "       [1000, 30, 36, 1, 1, 0, 0],\n",
       "       [1000, 15, 39, 1, 1, 6, 1],\n",
       "       [1000, 30, 28, 1, 1, 6, 1],\n",
       "       [1000, 15, 29, 3, 1, 0, 0],\n",
       "       [1000, 30, 28, 0, 1, 6, 1],\n",
       "       [1000, 15, 29, 3, 1, 6, 1],\n",
       "       [1000, 30, 30, 3, 1, 6, 1],\n",
       "       [1000, 15, 35, 3, 1, 6, 1],\n",
       "       [1000, 7, 29, 3, 1, 6, 1],\n",
       "       [1000, 30, 33, 0, 0, 3, 0],\n",
       "       [1000, 7, 27, 1, 1, 5, 1],\n",
       "       [800, 15, 26, 1, 1, 0, 0],\n",
       "       [1000, 30, 33, 3, 1, 6, 1],\n",
       "       [500, 7, 22, 1, 1, 1, 0],\n",
       "       [800, 15, 51, 3, 1, 1, 0],\n",
       "       [1000, 30, 39, 1, 1, 0, 0],\n",
       "       [1000, 30, 38, 3, 0, 6, 1],\n",
       "       [1000, 15, 30, 3, 1, 6, 1],\n",
       "       [1000, 30, 30, 1, 1, 0, 0],\n",
       "       [1000, 15, 50, 2, 1, 6, 1],\n",
       "       [1000, 30, 29, 3, 1, 2, 0],\n",
       "       [1000, 15, 34, 3, 1, 6, 1],\n",
       "       [1000, 30, 21, 1, 1, 6, 1],\n",
       "       [1000, 30, 35, 1, 1, 0, 0],\n",
       "       [1000, 30, 31, 3, 1, 6, 1],\n",
       "       [1000, 30, 29, 3, 1, 2, 0],\n",
       "       [1000, 15, 32, 3, 0, 6, 1],\n",
       "       [1000, 15, 40, 1, 1, 6, 1],\n",
       "       [1000, 30, 35, 1, 1, 0, 0]], dtype=object)"
      ]
     },
     "metadata": {},
     "execution_count": 7
    }
   ],
   "metadata": {}
  },
  {
   "cell_type": "markdown",
   "source": [
    "decision tree"
   ],
   "metadata": {}
  },
  {
   "cell_type": "code",
   "execution_count": 8,
   "source": [
    "from sklearn.tree import DecisionTreeClassifier\r\n",
    "\r\n",
    "d=DecisionTreeClassifier(criterion='entropy',max_depth=4)\r\n",
    "\r\n",
    "d.fit(x11,y11)\r\n",
    "\r\n",
    "z=d.predict(x21)\r\n",
    "\r\n",
    "from sklearn.metrics import jaccard_score\r\n",
    "from sklearn.metrics import f1_score\r\n",
    "\r\n",
    "\r\n",
    "fs2=f1_score(z,y21, average='weighted')\r\n",
    "fs1=jaccard_score(z,y21)\r\n",
    "fs1\r\n"
   ],
   "outputs": [
    {
     "output_type": "execute_result",
     "data": {
      "text/plain": [
       "0.5714285714285714"
      ]
     },
     "metadata": {},
     "execution_count": 8
    }
   ],
   "metadata": {}
  },
  {
   "cell_type": "code",
   "execution_count": 9,
   "source": [
    "b=pd.read_csv(\"loan_test.csv\")\r\n",
    "b['due_date'] = pd.to_datetime(b['due_date'])\r\n",
    "b['effective_date'] = pd.to_datetime(b['effective_date'])\r\n",
    "b[['effective_date', 'due_date']].head(3)\r\n",
    "b['dayofweek'] = b['effective_date'].dt.dayofweek # Monday:0, Sunday:6a\r\n",
    "b.head(3)\r\n",
    "b['weekend'] = b['dayofweek'].apply(lambda x: 1 if (x>3)  else 0)\r\n",
    "b.head()\r\n",
    "dd=b[['Principal','terms','age','education','Gender','dayofweek','weekend']].values\r\n",
    "dd[:,4]=preprocessing.LabelEncoder().fit(['male', 'female']).transform(dd[:,4])\r\n",
    "dd[:,3]=preprocessing.LabelEncoder().fit(['High School or Below','Bechalor','college','Master or Above']).transform(dd[:,3])\r\n",
    "y_1=b[['loan_status']].values\r\n",
    "y_1 = np.where(y_1 =='PAIDOFF', 1,0 )\r\n",
    "z1=d.predict(dd)\r\n",
    "fs2=f1_score(z1,y_1, average='weighted')\r\n",
    "fs1=jaccard_score(z1,y_1)\r\n",
    "fs1\r\n",
    "print(fs2)\r\n",
    "print(fs1)\r\n"
   ],
   "outputs": [
    {
     "output_type": "stream",
     "name": "stdout",
     "text": [
      "0.731359649122807\n",
      "0.6888888888888889\n"
     ]
    }
   ],
   "metadata": {}
  },
  {
   "cell_type": "markdown",
   "source": [
    "logistic regression"
   ],
   "metadata": {}
  },
  {
   "cell_type": "code",
   "execution_count": 10,
   "source": [
    "from sklearn.linear_model import LogisticRegression\r\n",
    "LR = LogisticRegression(C=0.01, solver=\"liblinear\").fit(x11,y11)\r\n",
    "\r\n",
    "yhat = LR.predict(x21)\r\n",
    "yhat_prob = LR.predict_proba(x21)\r\n",
    "\r\n",
    "#Evaluation\r\n",
    "from sklearn.metrics import jaccard_score\r\n",
    "jaccard_score(y21,yhat)\r\n"
   ],
   "outputs": [
    {
     "output_type": "execute_result",
     "data": {
      "text/plain": [
       "0.7428571428571429"
      ]
     },
     "metadata": {},
     "execution_count": 10
    }
   ],
   "metadata": {}
  },
  {
   "cell_type": "code",
   "execution_count": 11,
   "source": [
    "b=pd.read_csv(\"loan_test.csv\")\r\n",
    "b['due_date'] = pd.to_datetime(b['due_date'])\r\n",
    "b['effective_date'] = pd.to_datetime(b['effective_date'])\r\n",
    "b[['effective_date', 'due_date']].head(3)\r\n",
    "b['dayofweek'] = b['effective_date'].dt.dayofweek # Monday:0, Sunday:6a\r\n",
    "b.head(3)\r\n",
    "b['weekend'] = b['dayofweek'].apply(lambda x: 1 if (x>3)  else 0)\r\n",
    "b.head()\r\n",
    "dd=b[['Principal','terms','age','education','Gender','dayofweek','weekend']].values\r\n",
    "dd[:,4]=preprocessing.LabelEncoder().fit(['male', 'female']).transform(dd[:,4])\r\n",
    "dd[:,3]=preprocessing.LabelEncoder().fit(['High School or Below','Bechalor','college','Master or Above']).transform(dd[:,3])\r\n",
    "dd=b[['Principal','terms','age','education','Gender','dayofweek','weekend']].values\r\n",
    "dd[:,4]=preprocessing.LabelEncoder().fit(['male', 'female']).transform(dd[:,4])\r\n",
    "dd[:,3]=preprocessing.LabelEncoder().fit(['High School or Below','Bechalor','college','Master or Above']).transform(dd[:,3])\r\n",
    "y_1=b[['loan_status']].values\r\n",
    "y_1 = np.where(y_1 =='PAIDOFF', 1,0 )\r\n",
    "z1=LR.predict(dd)\r\n",
    "fs2=f1_score(z1,y_1, average='weighted')\r\n",
    "fs1=jaccard_score(z1,y_1)\r\n",
    "print(fs2)\r\n",
    "print(fs1)"
   ],
   "outputs": [
    {
     "output_type": "stream",
     "name": "stdout",
     "text": [
      "0.8467542811628833\n",
      "0.7547169811320755\n"
     ]
    }
   ],
   "metadata": {}
  },
  {
   "cell_type": "markdown",
   "source": [
    "support vector machine"
   ],
   "metadata": {}
  },
  {
   "cell_type": "code",
   "execution_count": 12,
   "source": [
    "from sklearn import svm\r\n",
    "clf = svm.SVC(kernel='rbf')\r\n",
    "clf.fit(x11,y11)\r\n",
    "\r\n",
    "yhat = clf.predict(x21) \r\n",
    "\r\n",
    "\r\n",
    "from sklearn.metrics import classification_report, confusion_matrix\r\n",
    "\r\n",
    "from sklearn.metrics import f1_score\r\n",
    "print(f1_score(y21, yhat, average='weighted') )\r\n",
    "\r\n",
    "\r\n",
    "from sklearn.metrics import jaccard_score\r\n",
    "print(jaccard_score(y21, yhat))"
   ],
   "outputs": [
    {
     "output_type": "stream",
     "name": "stdout",
     "text": [
      "0.6914285714285714\n",
      "0.7857142857142857\n"
     ]
    }
   ],
   "metadata": {}
  },
  {
   "cell_type": "code",
   "execution_count": 13,
   "source": [
    "b=pd.read_csv(\"loan_test.csv\")\r\n",
    "b['due_date'] = pd.to_datetime(b['due_date'])\r\n",
    "b['effective_date'] = pd.to_datetime(b['effective_date'])\r\n",
    "b[['effective_date', 'due_date']].head(3)\r\n",
    "b['dayofweek'] = b['effective_date'].dt.dayofweek # Monday:0, Sunday:6a\r\n",
    "b.head(3)\r\n",
    "b['weekend'] = b['dayofweek'].apply(lambda x: 1 if (x>3)  else 0)\r\n",
    "b.head()\r\n",
    "dd=b[['Principal','terms','age','education','Gender','dayofweek','weekend']].values\r\n",
    "dd[:,4]=preprocessing.LabelEncoder().fit(['male', 'female']).transform(dd[:,4])\r\n",
    "dd[:,3]=preprocessing.LabelEncoder().fit(['High School or Below','Bechalor','college','Master or Above']).transform(dd[:,3])\r\n",
    "y_1=b[['loan_status']].values\r\n",
    "y_1 = np.where(y_1 =='PAIDOFF', 1,0 )\r\n",
    "z1=clf.predict(dd)\r\n",
    "fs2=f1_score(z1,y_1, average='weighted')\r\n",
    "fs1=jaccard_score(z1,y_1)\r\n",
    "print(fs2)\r\n",
    "print(fs1)"
   ],
   "outputs": [
    {
     "output_type": "stream",
     "name": "stdout",
     "text": [
      "0.851063829787234\n",
      "0.7407407407407407\n"
     ]
    }
   ],
   "metadata": {}
  },
  {
   "cell_type": "markdown",
   "source": [
    "KNN"
   ],
   "metadata": {}
  },
  {
   "cell_type": "code",
   "execution_count": 14,
   "source": [
    "k = 1\r\n",
    "e1={}\r\n",
    "a=pd.read_csv(\"loan_train.csv\")\r\n",
    "a['due_date'] = pd.to_datetime(a['due_date'])\r\n",
    "a['effective_date'] = pd.to_datetime(a['effective_date'])\r\n",
    "a[['effective_date', 'due_date']].head(3)\r\n",
    "a['dayofweek'] = a['effective_date'].dt.dayofweek # Monday:0, Sunday:6a\r\n",
    "a.head(3)\r\n",
    "a['weekend'] = a['dayofweek'].apply(lambda x: 1 if (x>3)  else 0)\r\n",
    "df=a[['Principal','terms','age','education','Gender','dayofweek','weekend']].values\r\n",
    "df[:,4]=preprocessing.LabelEncoder().fit(['male', 'female']).transform(df[:,4])\r\n",
    "df[:,3]=preprocessing.LabelEncoder().fit(['High School or Below','Bechalor','college','Master or Above']).transform(df[:,3])\r\n",
    "print(df)\r\n",
    "y=a[['loan_status']].values\r\n",
    "y=preprocessing.LabelEncoder().fit(['COLLECTION', 'PAIDOFF']).transform(y)\r\n",
    "print(y)\r\n",
    "x11,x21,y11,y21=train_test_split(df,y,test_size=0.2,random_state=4)\r\n",
    "from sklearn.neighbors import KNeighborsClassifier\r\n",
    "from sklearn import metrics\r\n",
    "def kfinder(k):\r\n",
    "    neigh = KNeighborsClassifier(n_neighbors = k).fit(x11,y11)\r\n",
    "    yhat = neigh.predict(x21)\r\n",
    "    x2=metrics.accuracy_score(y21, yhat)\r\n",
    "    return x2\r\n",
    "while(k!=14):\r\n",
    "        e1[k]=(kfinder(k))\r\n",
    "        k=k+1\r\n",
    "print(e1)\r\n",
    "all_values = e1.values()\r\n",
    "max_value = max(all_values)\r\n",
    "print(list(e1.keys())[list(e1.values()).index(max_value)])"
   ],
   "outputs": [
    {
     "output_type": "stream",
     "name": "stdout",
     "text": [
      "[[1000 30 45 ... 1 3 0]\n",
      " [1000 30 33 ... 0 3 0]\n",
      " [1000 15 27 ... 1 3 0]\n",
      " ...\n",
      " [800 15 39 ... 1 0 0]\n",
      " [1000 30 28 ... 1 0 0]\n",
      " [1000 30 26 ... 1 0 0]]\n",
      "[1 1 1 1 1 1 1 1 1 1 1 1 1 1 1 1 1 1 1 1 1 1 1 1 1 1 1 1 1 1 1 1 1 1 1 1 1\n",
      " 1 1 1 1 1 1 1 1 1 1 1 1 1 1 1 1 1 1 1 1 1 1 1 1 1 1 1 1 1 1 1 1 1 1 1 1 1\n",
      " 1 1 1 1 1 1 1 1 1 1 1 1 1 1 1 1 1 1 1 1 1 1 1 1 1 1 1 1 1 1 1 1 1 1 1 1 1\n",
      " 1 1 1 1 1 1 1 1 1 1 1 1 1 1 1 1 1 1 1 1 1 1 1 1 1 1 1 1 1 1 1 1 1 1 1 1 1\n",
      " 1 1 1 1 1 1 1 1 1 1 1 1 1 1 1 1 1 1 1 1 1 1 1 1 1 1 1 1 1 1 1 1 1 1 1 1 1\n",
      " 1 1 1 1 1 1 1 1 1 1 1 1 1 1 1 1 1 1 1 1 1 1 1 1 1 1 1 1 1 1 1 1 1 1 1 1 1\n",
      " 1 1 1 1 1 1 1 1 1 1 1 1 1 1 1 1 1 1 1 1 1 1 1 1 1 1 1 1 1 1 1 1 1 1 1 1 1\n",
      " 1 0 0 0 0 0 0 0 0 0 0 0 0 0 0 0 0 0 0 0 0 0 0 0 0 0 0 0 0 0 0 0 0 0 0 0 0\n",
      " 0 0 0 0 0 0 0 0 0 0 0 0 0 0 0 0 0 0 0 0 0 0 0 0 0 0 0 0 0 0 0 0 0 0 0 0 0\n",
      " 0 0 0 0 0 0 0 0 0 0 0 0 0]\n",
      "{1: 0.7, 2: 0.6857142857142857, 3: 0.7142857142857143, 4: 0.6714285714285714, 5: 0.7571428571428571, 6: 0.6428571428571429, 7: 0.7, 8: 0.6428571428571429, 9: 0.7571428571428571, 10: 0.6571428571428571, 11: 0.7142857142857143, 12: 0.6857142857142857, 13: 0.7142857142857143}\n",
      "5\n"
     ]
    },
    {
     "output_type": "stream",
     "name": "stderr",
     "text": [
      "C:\\Python\\Python39\\lib\\site-packages\\sklearn\\utils\\validation.py:63: DataConversionWarning: A column-vector y was passed when a 1d array was expected. Please change the shape of y to (n_samples, ), for example using ravel().\n",
      "  return f(*args, **kwargs)\n"
     ]
    }
   ],
   "metadata": {}
  },
  {
   "cell_type": "code",
   "execution_count": 15,
   "source": [
    "b=pd.read_csv(\"loan_test.csv\")\r\n",
    "b['due_date'] = pd.to_datetime(b['due_date'])\r\n",
    "b['effective_date'] = pd.to_datetime(b['effective_date'])\r\n",
    "b[['effective_date', 'due_date']].head(3)\r\n",
    "b['dayofweek'] = b['effective_date'].dt.dayofweek # Monday:0, Sunday:6a\r\n",
    "b.head(3)\r\n",
    "b['weekend'] = b['dayofweek'].apply(lambda x: 1 if (x>3)  else 0)\r\n",
    "b.head()\r\n",
    "dd=b[['Principal','terms','age','education','Gender','dayofweek','weekend']].values\r\n",
    "dd[:,4]=preprocessing.LabelEncoder().fit(['male', 'female']).transform(dd[:,4])\r\n",
    "dd[:,3]=preprocessing.LabelEncoder().fit(['High School or Below','Bechalor','college','Master or Above']).transform(dd[:,3])\r\n",
    "y_1=b[['loan_status']].values\r\n",
    "y_1 = np.where(y_1 =='PAIDOFF', 1,0 )\r\n",
    "neigh = KNeighborsClassifier(n_neighbors = k).fit(x11,y11)\r\n",
    "yhat = neigh.predict(dd)\r\n",
    "x2=metrics.accuracy_score(yhat,y_1)\r\n",
    "print(fs2)\r\n",
    "print(fs1)"
   ],
   "outputs": [
    {
     "output_type": "stream",
     "name": "stdout",
     "text": [
      "0.851063829787234\n",
      "0.7407407407407407\n"
     ]
    }
   ],
   "metadata": {}
  }
 ],
 "metadata": {
  "orig_nbformat": 4,
  "language_info": {
   "name": "python",
   "version": "3.9.7",
   "mimetype": "text/x-python",
   "codemirror_mode": {
    "name": "ipython",
    "version": 3
   },
   "pygments_lexer": "ipython3",
   "nbconvert_exporter": "python",
   "file_extension": ".py"
  },
  "kernelspec": {
   "name": "python3",
   "display_name": "Python 3.9.7 64-bit"
  },
  "interpreter": {
   "hash": "ee5cc6fef2d70a7e71ee3826687cbd150f18158e0b1eef11d4f4f92bb920e304"
  }
 },
 "nbformat": 4,
 "nbformat_minor": 2
}