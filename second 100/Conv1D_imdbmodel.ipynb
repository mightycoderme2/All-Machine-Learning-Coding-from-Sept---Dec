{
  "nbformat": 4,
  "nbformat_minor": 0,
  "metadata": {
    "colab": {
      "name": "Conv1D_imdbmodel.ipynb",
      "private_outputs": true,
      "provenance": []
    },
    "kernelspec": {
      "name": "python3",
      "display_name": "Python 3"
    },
    "language_info": {
      "name": "python"
    },
    "accelerator": "GPU"
  },
  "cells": [
    {
      "cell_type": "code",
      "metadata": {
        "id": "sgJeufCZFK4C"
      },
      "source": [
        "from __future__ import absolute_import, division, print_function, unicode_literals\n",
        "\n",
        "import tensorflow as tf\n",
        "from tensorflow.keras.preprocessing.text import Tokenizer\n",
        "from tensorflow.keras.preprocessing.sequence import pad_sequences\n",
        "import tensorflow_datasets as tfds\n",
        "from tensorflow.keras.layers import Dense,Flatten,Embedding,Conv1D,MaxPool2D,Bidirectional,GRU,GlobalAveragePooling1D\n",
        "from tensorflow.keras.datasets import fashion_mnist\n",
        "from tensorflow.keras.models import Sequential\n",
        "import numpy as np\n",
        "import matplotlib.pyplot as plt\n",
        "from tensorflow.keras.optimizers import Adam\n",
        "import pandas as pd\n",
        "from tensorflow.keras.callbacks import Callback\n",
        "import tensorflow_datasets as tfds\n",
        "import tensorflow as tf\n",
        "print(tf.__version__)"
      ],
      "execution_count": null,
      "outputs": []
    },
    {
      "cell_type": "code",
      "metadata": {
        "id": "sLnN7tsKGh1p"
      },
      "source": [
        "imdb, info = tfds.load(\"imdb_reviews\", with_info=True, as_supervised=True)\n"
      ],
      "execution_count": null,
      "outputs": []
    },
    {
      "cell_type": "code",
      "metadata": {
        "id": "7U3vSF-HGknH"
      },
      "source": [
        "train_dataset=imdb['train']\n",
        "test_dataset=imdb['test']\n",
        "\n",
        "xtrain=[]\n",
        "ytrain=[]\n",
        "\n",
        "xtest=[]\n",
        "ytest=[]\n",
        "\n"
      ],
      "execution_count": null,
      "outputs": []
    },
    {
      "cell_type": "code",
      "metadata": {
        "id": "Qck8d99WG0Gu"
      },
      "source": [
        "for i,j in train_dataset:\n",
        "  xtrain.append(str(i.numpy()))\n",
        "  ytrain.append(j.numpy())\n",
        "\n",
        "\n",
        "for i,j in test_dataset:\n",
        "  xtest.append(str(i.numpy()))\n",
        "  ytest.append(j.numpy())\n"
      ],
      "execution_count": null,
      "outputs": []
    },
    {
      "cell_type": "code",
      "metadata": {
        "id": "_TxsqRmOHRI2"
      },
      "source": [
        "y_train=np.array(ytrain)\n",
        "y_test=np.array(ytest)"
      ],
      "execution_count": null,
      "outputs": []
    },
    {
      "cell_type": "code",
      "metadata": {
        "id": "iAD_gTLXHktM"
      },
      "source": [
        "tokenizer=Tokenizer(num_words=10000,oov_token='<OOV>')\n",
        "tokenizer.fit_on_texts(xtrain)\n",
        "index=tokenizer.word_index\n",
        "sequences=tokenizer.texts_to_sequences(xtrain)\n",
        "x_train=pad_sequences(sequences,maxlen=120,truncating='post')\n",
        "\n",
        "sequences1=tokenizer.texts_to_sequences(xtest)\n",
        "x_test=pad_sequences(sequences1,maxlen=120)"
      ],
      "execution_count": null,
      "outputs": []
    },
    {
      "cell_type": "code",
      "metadata": {
        "id": "hASv_9HnIU6H"
      },
      "source": [
        "reverse_word_index = dict([(value, key) for (key, value) in index.items()])\n"
      ],
      "execution_count": null,
      "outputs": []
    },
    {
      "cell_type": "code",
      "metadata": {
        "id": "Y8j7hDLyJDD-"
      },
      "source": [
        "model=Sequential([Embedding(10000,16,input_length=120),\n",
        "                  Conv1D(128, 5, activation='relu'),\n",
        "                  GlobalAveragePooling1D(),\n",
        "                  Dense(6,activation='relu'),\n",
        "                  Dense(1,activation='sigmoid')])\n",
        "model.compile(optimizer='adam',loss='binary_crossentropy',metrics=['accuracy'])"
      ],
      "execution_count": null,
      "outputs": []
    },
    {
      "cell_type": "code",
      "metadata": {
        "id": "8biCDsy3Kss3"
      },
      "source": [
        "a=model.fit(x_train,y_train,epochs=10,validation_data=(x_test,y_test))\n",
        "model.save('GRU_imdbmodel.h5')"
      ],
      "execution_count": null,
      "outputs": []
    },
    {
      "cell_type": "code",
      "metadata": {
        "id": "lq5svueWMQ42"
      },
      "source": [
        "plt.plot(a.history['accuracy'])\n",
        "plt.plot(a.history['val_accuracy'])\n",
        "plt.xlabel('epochs')\n",
        "plt.ylabel('accuracy')\n",
        "plt.legend(['accuracy', 'val_accuracy'])"
      ],
      "execution_count": null,
      "outputs": []
    },
    {
      "cell_type": "code",
      "metadata": {
        "id": "0CBxvaM1Oost"
      },
      "source": [
        "plt.plot(a.history['loss'])\n",
        "plt.plot(a.history['val_loss'])\n",
        "plt.xlabel('epochs')\n",
        "plt.ylabel('loss')\n",
        "plt.legend(['loss', 'val_loss'])"
      ],
      "execution_count": null,
      "outputs": []
    }
  ]
}