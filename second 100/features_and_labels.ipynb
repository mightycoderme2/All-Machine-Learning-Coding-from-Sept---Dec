{
  "nbformat": 4,
  "nbformat_minor": 0,
  "metadata": {
    "colab": {
      "name": "features and labels.ipynb",
      "provenance": []
    },
    "kernelspec": {
      "name": "python3",
      "display_name": "Python 3"
    },
    "language_info": {
      "name": "python"
    }
  },
  "cells": [
    {
      "cell_type": "code",
      "metadata": {
        "id": "iYuifis9a8wO"
      },
      "source": [
        "import tensorflow as tf \n",
        "import numpy as np\n",
        "import matplotlib.pyplot as plt \n",
        "from tensorflow.data import Dataset"
      ],
      "execution_count": 2,
      "outputs": []
    },
    {
      "cell_type": "code",
      "metadata": {
        "colab": {
          "base_uri": "https://localhost:8080/"
        },
        "id": "J_sOjQpEiRID",
        "outputId": "2d627e8a-5cb0-45b7-9ca9-e81e4030cb77"
      },
      "source": [
        "d=Dataset.range(10)\n",
        "for i in d:\n",
        "  print(i.numpy())"
      ],
      "execution_count": 4,
      "outputs": [
        {
          "output_type": "stream",
          "name": "stdout",
          "text": [
            "0\n",
            "1\n",
            "2\n",
            "3\n",
            "4\n",
            "5\n",
            "6\n",
            "7\n",
            "8\n",
            "9\n"
          ]
        }
      ]
    },
    {
      "cell_type": "code",
      "metadata": {
        "colab": {
          "base_uri": "https://localhost:8080/"
        },
        "id": "a_FYPd7Xilp1",
        "outputId": "68c06e0c-f13d-4db6-a0b5-a353e4455fe6"
      },
      "source": [
        "d=Dataset.range(10)\n",
        "d=d.window(5,shift=1)\n",
        "for i in d:\n",
        "  for j in i:\n",
        "    print(j.numpy(),end=\" \")\n",
        "  print()"
      ],
      "execution_count": 9,
      "outputs": [
        {
          "output_type": "stream",
          "name": "stdout",
          "text": [
            "0 1 2 3 4 \n",
            "1 2 3 4 5 \n",
            "2 3 4 5 6 \n",
            "3 4 5 6 7 \n",
            "4 5 6 7 8 \n",
            "5 6 7 8 9 \n",
            "6 7 8 9 \n",
            "7 8 9 \n",
            "8 9 \n",
            "9 \n"
          ]
        }
      ]
    },
    {
      "cell_type": "code",
      "metadata": {
        "colab": {
          "base_uri": "https://localhost:8080/"
        },
        "id": "Ehhd710-jEmk",
        "outputId": "871f0eb1-2d01-4c04-f030-1cefe6899900"
      },
      "source": [
        "d=Dataset.range(10)\n",
        "d=d.window(5,shift=1,drop_remainder=True)\n",
        "for i in d:\n",
        "  for j in i:\n",
        "    print(j.numpy(),end=\" \")\n",
        "  print()"
      ],
      "execution_count": 10,
      "outputs": [
        {
          "output_type": "stream",
          "name": "stdout",
          "text": [
            "0 1 2 3 4 \n",
            "1 2 3 4 5 \n",
            "2 3 4 5 6 \n",
            "3 4 5 6 7 \n",
            "4 5 6 7 8 \n",
            "5 6 7 8 9 \n"
          ]
        }
      ]
    },
    {
      "cell_type": "code",
      "metadata": {
        "colab": {
          "base_uri": "https://localhost:8080/"
        },
        "id": "0evqg9ktjKhr",
        "outputId": "f57d89e2-5f34-4ec6-b365-3dc10a4c99c1"
      },
      "source": [
        "d=Dataset.range(10)\n",
        "d=d.window(5,shift=1,drop_remainder=True)\n",
        "d=d.flat_map(lambda i:i.batch(5))\n",
        "for i in d:\n",
        "  print(i.numpy())"
      ],
      "execution_count": 13,
      "outputs": [
        {
          "output_type": "stream",
          "name": "stdout",
          "text": [
            "[0 1 2 3 4]\n",
            "[1 2 3 4 5]\n",
            "[2 3 4 5 6]\n",
            "[3 4 5 6 7]\n",
            "[4 5 6 7 8]\n",
            "[5 6 7 8 9]\n"
          ]
        }
      ]
    },
    {
      "cell_type": "code",
      "metadata": {
        "colab": {
          "base_uri": "https://localhost:8080/"
        },
        "id": "DFmy6eGcjf2D",
        "outputId": "5ab16ca3-a71c-4ede-e298-8ef838041249"
      },
      "source": [
        "d=Dataset.range(10)\n",
        "d=d.window(5,shift=1,drop_remainder=True)\n",
        "d=d.flat_map(lambda i:i.batch(5))\n",
        "d=d.map(lambda i:(i[:-1],i[-1:]))\n",
        "for i,j in d:\n",
        "  print(i.numpy(),j.numpy())"
      ],
      "execution_count": 14,
      "outputs": [
        {
          "output_type": "stream",
          "name": "stdout",
          "text": [
            "[0 1 2 3] [4]\n",
            "[1 2 3 4] [5]\n",
            "[2 3 4 5] [6]\n",
            "[3 4 5 6] [7]\n",
            "[4 5 6 7] [8]\n",
            "[5 6 7 8] [9]\n"
          ]
        }
      ]
    },
    {
      "cell_type": "code",
      "metadata": {
        "colab": {
          "base_uri": "https://localhost:8080/"
        },
        "id": "4EGeEboejtSb",
        "outputId": "4839f4f2-a178-4da2-9431-77043fc0685c"
      },
      "source": [
        "d=Dataset.range(10)\n",
        "d=d.window(5,shift=1,drop_remainder=True)\n",
        "d=d.flat_map(lambda i:i.batch(5))\n",
        "d=d.map(lambda i:(i[:-1],i[-1:]))\n",
        "d=d.shuffle(buffer_size=10)\n",
        "d=d.batch(2).prefetch(1)\n",
        "for i,j in d:\n",
        "  print(i.numpy(),j.numpy())"
      ],
      "execution_count": 16,
      "outputs": [
        {
          "output_type": "stream",
          "name": "stdout",
          "text": [
            "[[1 2 3 4]\n",
            " [5 6 7 8]] [[5]\n",
            " [9]]\n",
            "[[2 3 4 5]\n",
            " [4 5 6 7]] [[6]\n",
            " [8]]\n",
            "[[3 4 5 6]\n",
            " [0 1 2 3]] [[7]\n",
            " [4]]\n"
          ]
        }
      ]
    }
  ]
}