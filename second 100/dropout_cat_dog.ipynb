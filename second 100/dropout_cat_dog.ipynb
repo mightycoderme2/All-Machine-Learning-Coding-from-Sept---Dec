{
  "nbformat": 4,
  "nbformat_minor": 0,
  "metadata": {
    "colab": {
      "name": "dropout_cat_dog.ipynb",
      "provenance": [],
      "collapsed_sections": []
    },
    "kernelspec": {
      "name": "python3",
      "display_name": "Python 3"
    },
    "language_info": {
      "name": "python"
    },
    "accelerator": "GPU"
  },
  "cells": [
    {
      "cell_type": "code",
      "metadata": {
        "colab": {
          "base_uri": "https://localhost:8080/"
        },
        "id": "zz9MLdxoRtTq",
        "outputId": "0452cc72-5790-4b16-9047-820a8e10eab4"
      },
      "source": [
        "import os\n",
        "import tensorflow\n",
        "from tensorflow.keras import layers\n",
        "from tensorflow.keras import Model\n",
        "\n",
        "!wget --no-check-certificate \\\n",
        "    https://storage.googleapis.com/mledu-datasets/inception_v3_weights_tf_dim_ordering_tf_kernels_notop.h5 \\\n",
        "    -O /tmp/inception_v3_weights_tf_dim_ordering_tf_kernels_notop.h5"
      ],
      "execution_count": 1,
      "outputs": [
        {
          "output_type": "stream",
          "name": "stdout",
          "text": [
            "--2021-11-21 03:19:41--  https://storage.googleapis.com/mledu-datasets/inception_v3_weights_tf_dim_ordering_tf_kernels_notop.h5\n",
            "Resolving storage.googleapis.com (storage.googleapis.com)... 66.102.1.128, 142.251.5.128, 74.125.133.128, ...\n",
            "Connecting to storage.googleapis.com (storage.googleapis.com)|66.102.1.128|:443... connected.\n",
            "HTTP request sent, awaiting response... 200 OK\n",
            "Length: 87910968 (84M) [application/x-hdf]\n",
            "Saving to: ‘/tmp/inception_v3_weights_tf_dim_ordering_tf_kernels_notop.h5’\n",
            "\n",
            "/tmp/inception_v3_w 100%[===================>]  83.84M   189MB/s    in 0.4s    \n",
            "\n",
            "2021-11-21 03:19:41 (189 MB/s) - ‘/tmp/inception_v3_weights_tf_dim_ordering_tf_kernels_notop.h5’ saved [87910968/87910968]\n",
            "\n"
          ]
        }
      ]
    },
    {
      "cell_type": "code",
      "metadata": {
        "id": "U3bB6sL3S4Z0"
      },
      "source": [
        "from tensorflow.keras.models import Sequential\n",
        "from tensorflow.keras.optimizers import RMSprop\n",
        "from tensorflow.keras.layers import Dense ,Flatten,Dropout,Conv2D,MaxPooling2D"
      ],
      "execution_count": 2,
      "outputs": []
    },
    {
      "cell_type": "code",
      "metadata": {
        "colab": {
          "base_uri": "https://localhost:8080/"
        },
        "id": "gVaE9e0LYGzT",
        "outputId": "e7b7fa84-ae8f-426a-8fa7-69058674ba8a"
      },
      "source": [
        "!pip install tensorflow"
      ],
      "execution_count": 3,
      "outputs": [
        {
          "output_type": "stream",
          "name": "stdout",
          "text": [
            "Requirement already satisfied: tensorflow in /usr/local/lib/python3.7/dist-packages (2.7.0)\n",
            "Requirement already satisfied: tensorflow-estimator<2.8,~=2.7.0rc0 in /usr/local/lib/python3.7/dist-packages (from tensorflow) (2.7.0)\n",
            "Requirement already satisfied: gast<0.5.0,>=0.2.1 in /usr/local/lib/python3.7/dist-packages (from tensorflow) (0.4.0)\n",
            "Requirement already satisfied: google-pasta>=0.1.1 in /usr/local/lib/python3.7/dist-packages (from tensorflow) (0.2.0)\n",
            "Requirement already satisfied: tensorboard~=2.6 in /usr/local/lib/python3.7/dist-packages (from tensorflow) (2.7.0)\n",
            "Requirement already satisfied: absl-py>=0.4.0 in /usr/local/lib/python3.7/dist-packages (from tensorflow) (0.12.0)\n",
            "Requirement already satisfied: numpy>=1.14.5 in /usr/local/lib/python3.7/dist-packages (from tensorflow) (1.19.5)\n",
            "Requirement already satisfied: opt-einsum>=2.3.2 in /usr/local/lib/python3.7/dist-packages (from tensorflow) (3.3.0)\n",
            "Requirement already satisfied: flatbuffers<3.0,>=1.12 in /usr/local/lib/python3.7/dist-packages (from tensorflow) (2.0)\n",
            "Requirement already satisfied: protobuf>=3.9.2 in /usr/local/lib/python3.7/dist-packages (from tensorflow) (3.17.3)\n",
            "Requirement already satisfied: wrapt>=1.11.0 in /usr/local/lib/python3.7/dist-packages (from tensorflow) (1.13.3)\n",
            "Requirement already satisfied: libclang>=9.0.1 in /usr/local/lib/python3.7/dist-packages (from tensorflow) (12.0.0)\n",
            "Requirement already satisfied: keras<2.8,>=2.7.0rc0 in /usr/local/lib/python3.7/dist-packages (from tensorflow) (2.7.0)\n",
            "Requirement already satisfied: six>=1.12.0 in /usr/local/lib/python3.7/dist-packages (from tensorflow) (1.15.0)\n",
            "Requirement already satisfied: astunparse>=1.6.0 in /usr/local/lib/python3.7/dist-packages (from tensorflow) (1.6.3)\n",
            "Requirement already satisfied: keras-preprocessing>=1.1.1 in /usr/local/lib/python3.7/dist-packages (from tensorflow) (1.1.2)\n",
            "Requirement already satisfied: h5py>=2.9.0 in /usr/local/lib/python3.7/dist-packages (from tensorflow) (3.1.0)\n",
            "Requirement already satisfied: termcolor>=1.1.0 in /usr/local/lib/python3.7/dist-packages (from tensorflow) (1.1.0)\n",
            "Requirement already satisfied: grpcio<2.0,>=1.24.3 in /usr/local/lib/python3.7/dist-packages (from tensorflow) (1.42.0)\n",
            "Requirement already satisfied: typing-extensions>=3.6.6 in /usr/local/lib/python3.7/dist-packages (from tensorflow) (3.10.0.2)\n",
            "Requirement already satisfied: wheel<1.0,>=0.32.0 in /usr/local/lib/python3.7/dist-packages (from tensorflow) (0.37.0)\n",
            "Requirement already satisfied: tensorflow-io-gcs-filesystem>=0.21.0 in /usr/local/lib/python3.7/dist-packages (from tensorflow) (0.22.0)\n",
            "Requirement already satisfied: cached-property in /usr/local/lib/python3.7/dist-packages (from h5py>=2.9.0->tensorflow) (1.5.2)\n",
            "Requirement already satisfied: requests<3,>=2.21.0 in /usr/local/lib/python3.7/dist-packages (from tensorboard~=2.6->tensorflow) (2.23.0)\n",
            "Requirement already satisfied: google-auth<3,>=1.6.3 in /usr/local/lib/python3.7/dist-packages (from tensorboard~=2.6->tensorflow) (1.35.0)\n",
            "Requirement already satisfied: tensorboard-plugin-wit>=1.6.0 in /usr/local/lib/python3.7/dist-packages (from tensorboard~=2.6->tensorflow) (1.8.0)\n",
            "Requirement already satisfied: werkzeug>=0.11.15 in /usr/local/lib/python3.7/dist-packages (from tensorboard~=2.6->tensorflow) (1.0.1)\n",
            "Requirement already satisfied: google-auth-oauthlib<0.5,>=0.4.1 in /usr/local/lib/python3.7/dist-packages (from tensorboard~=2.6->tensorflow) (0.4.6)\n",
            "Requirement already satisfied: markdown>=2.6.8 in /usr/local/lib/python3.7/dist-packages (from tensorboard~=2.6->tensorflow) (3.3.6)\n",
            "Requirement already satisfied: tensorboard-data-server<0.7.0,>=0.6.0 in /usr/local/lib/python3.7/dist-packages (from tensorboard~=2.6->tensorflow) (0.6.1)\n",
            "Requirement already satisfied: setuptools>=41.0.0 in /usr/local/lib/python3.7/dist-packages (from tensorboard~=2.6->tensorflow) (57.4.0)\n",
            "Requirement already satisfied: cachetools<5.0,>=2.0.0 in /usr/local/lib/python3.7/dist-packages (from google-auth<3,>=1.6.3->tensorboard~=2.6->tensorflow) (4.2.4)\n",
            "Requirement already satisfied: rsa<5,>=3.1.4 in /usr/local/lib/python3.7/dist-packages (from google-auth<3,>=1.6.3->tensorboard~=2.6->tensorflow) (4.7.2)\n",
            "Requirement already satisfied: pyasn1-modules>=0.2.1 in /usr/local/lib/python3.7/dist-packages (from google-auth<3,>=1.6.3->tensorboard~=2.6->tensorflow) (0.2.8)\n",
            "Requirement already satisfied: requests-oauthlib>=0.7.0 in /usr/local/lib/python3.7/dist-packages (from google-auth-oauthlib<0.5,>=0.4.1->tensorboard~=2.6->tensorflow) (1.3.0)\n",
            "Requirement already satisfied: importlib-metadata>=4.4 in /usr/local/lib/python3.7/dist-packages (from markdown>=2.6.8->tensorboard~=2.6->tensorflow) (4.8.2)\n",
            "Requirement already satisfied: zipp>=0.5 in /usr/local/lib/python3.7/dist-packages (from importlib-metadata>=4.4->markdown>=2.6.8->tensorboard~=2.6->tensorflow) (3.6.0)\n",
            "Requirement already satisfied: pyasn1<0.5.0,>=0.4.6 in /usr/local/lib/python3.7/dist-packages (from pyasn1-modules>=0.2.1->google-auth<3,>=1.6.3->tensorboard~=2.6->tensorflow) (0.4.8)\n",
            "Requirement already satisfied: idna<3,>=2.5 in /usr/local/lib/python3.7/dist-packages (from requests<3,>=2.21.0->tensorboard~=2.6->tensorflow) (2.10)\n",
            "Requirement already satisfied: certifi>=2017.4.17 in /usr/local/lib/python3.7/dist-packages (from requests<3,>=2.21.0->tensorboard~=2.6->tensorflow) (2021.10.8)\n",
            "Requirement already satisfied: urllib3!=1.25.0,!=1.25.1,<1.26,>=1.21.1 in /usr/local/lib/python3.7/dist-packages (from requests<3,>=2.21.0->tensorboard~=2.6->tensorflow) (1.24.3)\n",
            "Requirement already satisfied: chardet<4,>=3.0.2 in /usr/local/lib/python3.7/dist-packages (from requests<3,>=2.21.0->tensorboard~=2.6->tensorflow) (3.0.4)\n",
            "Requirement already satisfied: oauthlib>=3.0.0 in /usr/local/lib/python3.7/dist-packages (from requests-oauthlib>=0.7.0->google-auth-oauthlib<0.5,>=0.4.1->tensorboard~=2.6->tensorflow) (3.1.1)\n"
          ]
        }
      ]
    },
    {
      "cell_type": "code",
      "metadata": {
        "colab": {
          "base_uri": "https://localhost:8080/"
        },
        "id": "98ZJ9P3PTSiN",
        "outputId": "cbddbe88-495a-490a-e48a-e1a5160271c7"
      },
      "source": [
        "from tensorflow.keras.applications.inception_v3 import InceptionV3\n",
        "\n",
        "local_weights_file = '/tmp/inception_v3_weights_tf_dim_ordering_tf_kernels_notop.h5'\n",
        "\n",
        "model_1=InceptionV3(input_shape=(150,150,3),\n",
        "                    include_top=False,\n",
        "                    weights=None)\n",
        "model_1.load_weights(local_weights_file)\n",
        "for layers in model_1.layers:\n",
        "  layers.trainable=False\n",
        "\n",
        "last_layer = model_1.get_layer('mixed7')\n",
        "print('last layer output shape: ', last_layer.output_shape)\n",
        "last_output = last_layer.output"
      ],
      "execution_count": 4,
      "outputs": [
        {
          "output_type": "stream",
          "name": "stdout",
          "text": [
            "last layer output shape:  (None, 7, 7, 768)\n"
          ]
        }
      ]
    },
    {
      "cell_type": "code",
      "metadata": {
        "id": "XKv-4hk-ZZKT"
      },
      "source": [
        "x=Flatten()(last_output)\n",
        "x=Dense(1024,activation='relu')(x)\n",
        "x=Dropout(0.2)(x)\n",
        "x=Dense(1,activation='sigmoid')(x)\n",
        "model=Model(model_1.input,x)\n",
        "model.compile(loss='binary_crossentropy',metrics=['accuracy'],optimizer=RMSprop(learning_rate=0.01))\n",
        "\n"
      ],
      "execution_count": 5,
      "outputs": []
    },
    {
      "cell_type": "code",
      "metadata": {
        "colab": {
          "base_uri": "https://localhost:8080/"
        },
        "id": "6J9AMOlabPLy",
        "outputId": "a9db6202-1669-4a28-e050-8af1ccb7fbd5"
      },
      "source": [
        "!gdown --id 1RL0T7Rg4XqQNRCkjfnLo4goOJQ7XZro9\n",
        "\n",
        "from tensorflow.keras.preprocessing.image import ImageDataGenerator\n",
        "\n",
        "import os\n",
        "import zipfile\n",
        "zip_ref = zipfile.ZipFile(\"./cats_and_dogs_filtered.zip\", 'r')\n",
        "zip_ref.extractall(\"tmp/\")\n",
        "zip_ref.close()\n",
        "\n",
        "# Define our example directories and files\n",
        "base_dir = 'tmp/cats_and_dogs_filtered'\n",
        "\n",
        "train_dir = os.path.join( base_dir, 'train')\n",
        "validation_dir = os.path.join( base_dir, 'validation')\n",
        "\n",
        "\n",
        "train_cats_dir = os.path.join(train_dir, 'cats') # Directory with our training cat pictures\n",
        "train_dogs_dir = os.path.join(train_dir, 'dogs') # Directory with our training dog pictures\n",
        "validation_cats_dir = os.path.join(validation_dir, 'cats') # Directory with our validation cat pictures\n",
        "validation_dogs_dir = os.path.join(validation_dir, 'dogs')# Directory with our validation dog pictures\n",
        "\n",
        "train_cat_fnames = os.listdir(train_cats_dir)\n",
        "train_dog_fnames = os.listdir(train_dogs_dir)"
      ],
      "execution_count": 6,
      "outputs": [
        {
          "output_type": "stream",
          "name": "stdout",
          "text": [
            "Downloading...\n",
            "From: https://drive.google.com/uc?id=1RL0T7Rg4XqQNRCkjfnLo4goOJQ7XZro9\n",
            "To: /content/cats_and_dogs_filtered.zip\n",
            "100% 68.6M/68.6M [00:00<00:00, 133MB/s]\n"
          ]
        }
      ]
    },
    {
      "cell_type": "code",
      "metadata": {
        "colab": {
          "base_uri": "https://localhost:8080/"
        },
        "id": "XiJvxETEbQ-r",
        "outputId": "c8863442-1f85-40f0-9fc5-9bf8ab8b6ef6"
      },
      "source": [
        "train_1=ImageDataGenerator(rescale=1/255,\n",
        "                         rotation_range=40,\n",
        "                         width_shift_range=0.2,\n",
        "                         height_shift_range=0.2,\n",
        "                         shear_range=0.2,\n",
        "                         zoom_range=0.2,\n",
        "                         horizontal_flip=True)\n",
        "test_1=ImageDataGenerator(rescale=1/255,\n",
        "                         rotation_range=40,\n",
        "                         width_shift_range=0.2,\n",
        "                         height_shift_range=0.2,\n",
        "                         shear_range=0.2,\n",
        "                         zoom_range=0.2,\n",
        "                         horizontal_flip=True)\n",
        "train=train_1.flow_from_directory(train_dir,\n",
        "                                  target_size=(150,150),\n",
        "                                  class_mode='binary',\n",
        "                                  batch_size=20)\n",
        "test=test_1.flow_from_directory(validation_dir,\n",
        "                                  target_size=(150,150),\n",
        "                                  class_mode='binary',\n",
        "                                  batch_size=20)\n"
      ],
      "execution_count": 7,
      "outputs": [
        {
          "output_type": "stream",
          "name": "stdout",
          "text": [
            "Found 2000 images belonging to 2 classes.\n",
            "Found 1000 images belonging to 2 classes.\n"
          ]
        }
      ]
    },
    {
      "cell_type": "code",
      "metadata": {
        "colab": {
          "base_uri": "https://localhost:8080/"
        },
        "id": "0XDnmvlVcMwK",
        "outputId": "e60195fa-75d2-44c0-8e9d-fa28c7116823"
      },
      "source": [
        "a=model.fit(train,epochs=20,steps_per_epoch=100,verbose=2,validation_data=test,validation_steps=50)"
      ],
      "execution_count": 8,
      "outputs": [
        {
          "output_type": "stream",
          "name": "stdout",
          "text": [
            "Epoch 1/20\n",
            "100/100 - 63s - loss: 14.6015 - accuracy: 0.8130 - val_loss: 0.3860 - val_accuracy: 0.8670 - 63s/epoch - 626ms/step\n",
            "Epoch 2/20\n",
            "100/100 - 29s - loss: 0.9718 - accuracy: 0.8445 - val_loss: 1.0871 - val_accuracy: 0.8420 - 29s/epoch - 291ms/step\n",
            "Epoch 3/20\n",
            "100/100 - 29s - loss: 0.7472 - accuracy: 0.8640 - val_loss: 0.4237 - val_accuracy: 0.9060 - 29s/epoch - 291ms/step\n",
            "Epoch 4/20\n",
            "100/100 - 29s - loss: 0.7829 - accuracy: 0.8710 - val_loss: 0.2173 - val_accuracy: 0.9130 - 29s/epoch - 291ms/step\n",
            "Epoch 5/20\n",
            "100/100 - 29s - loss: 0.6374 - accuracy: 0.8960 - val_loss: 5.5580 - val_accuracy: 0.7030 - 29s/epoch - 291ms/step\n",
            "Epoch 6/20\n",
            "100/100 - 29s - loss: 0.7806 - accuracy: 0.8895 - val_loss: 0.7429 - val_accuracy: 0.9000 - 29s/epoch - 291ms/step\n",
            "Epoch 7/20\n",
            "100/100 - 29s - loss: 0.6569 - accuracy: 0.8970 - val_loss: 0.7702 - val_accuracy: 0.8400 - 29s/epoch - 292ms/step\n",
            "Epoch 8/20\n",
            "100/100 - 29s - loss: 0.4565 - accuracy: 0.9110 - val_loss: 0.3453 - val_accuracy: 0.9260 - 29s/epoch - 290ms/step\n",
            "Epoch 9/20\n",
            "100/100 - 29s - loss: 0.4863 - accuracy: 0.9115 - val_loss: 0.2688 - val_accuracy: 0.9360 - 29s/epoch - 289ms/step\n",
            "Epoch 10/20\n",
            "100/100 - 29s - loss: 0.4701 - accuracy: 0.9135 - val_loss: 0.3815 - val_accuracy: 0.9190 - 29s/epoch - 287ms/step\n",
            "Epoch 11/20\n",
            "100/100 - 29s - loss: 0.4604 - accuracy: 0.9135 - val_loss: 0.4996 - val_accuracy: 0.9020 - 29s/epoch - 287ms/step\n",
            "Epoch 12/20\n",
            "100/100 - 29s - loss: 0.5308 - accuracy: 0.9080 - val_loss: 0.3048 - val_accuracy: 0.9080 - 29s/epoch - 288ms/step\n",
            "Epoch 13/20\n",
            "100/100 - 29s - loss: 0.5111 - accuracy: 0.9230 - val_loss: 1.1328 - val_accuracy: 0.8800 - 29s/epoch - 287ms/step\n",
            "Epoch 14/20\n",
            "100/100 - 29s - loss: 0.5034 - accuracy: 0.9080 - val_loss: 0.3843 - val_accuracy: 0.9040 - 29s/epoch - 288ms/step\n",
            "Epoch 15/20\n",
            "100/100 - 29s - loss: 0.3765 - accuracy: 0.9170 - val_loss: 0.3476 - val_accuracy: 0.9090 - 29s/epoch - 291ms/step\n",
            "Epoch 16/20\n",
            "100/100 - 29s - loss: 0.4650 - accuracy: 0.9170 - val_loss: 0.3944 - val_accuracy: 0.9140 - 29s/epoch - 290ms/step\n",
            "Epoch 17/20\n",
            "100/100 - 29s - loss: 0.4084 - accuracy: 0.9170 - val_loss: 0.3411 - val_accuracy: 0.9280 - 29s/epoch - 289ms/step\n",
            "Epoch 18/20\n",
            "100/100 - 29s - loss: 0.3689 - accuracy: 0.9250 - val_loss: 0.3312 - val_accuracy: 0.9150 - 29s/epoch - 287ms/step\n",
            "Epoch 19/20\n",
            "100/100 - 29s - loss: 0.3777 - accuracy: 0.9355 - val_loss: 0.3824 - val_accuracy: 0.9140 - 29s/epoch - 288ms/step\n",
            "Epoch 20/20\n",
            "100/100 - 29s - loss: 0.4212 - accuracy: 0.9315 - val_loss: 0.3545 - val_accuracy: 0.9200 - 29s/epoch - 289ms/step\n"
          ]
        }
      ]
    },
    {
      "cell_type": "code",
      "metadata": {
        "colab": {
          "base_uri": "https://localhost:8080/",
          "height": 282
        },
        "id": "rhl9is2QftRE",
        "outputId": "012acfbc-8a06-44b9-a26d-cc7d1a28cb25"
      },
      "source": [
        "import matplotlib.pyplot as plt \n",
        "plt.plot(a.history['accuracy'])\n",
        "plt.plot(a.history['val_accuracy'])"
      ],
      "execution_count": 9,
      "outputs": [
        {
          "output_type": "execute_result",
          "data": {
            "text/plain": [
              "[<matplotlib.lines.Line2D at 0x7f8f4a39c450>]"
            ]
          },
          "metadata": {},
          "execution_count": 9
        },
        {
          "output_type": "display_data",
          "data": {
            "image/png": "[encoded data removed]",
            "text/plain": [
              "<Figure size 432x288 with 1 Axes>"
            ]
          },
          "metadata": {
            "needs_background": "light"
          }
        }
      ]
    },
    {
      "cell_type": "code",
      "metadata": {
        "colab": {
          "base_uri": "https://localhost:8080/",
          "height": 282
        },
        "id": "soXggXvLfuZW",
        "outputId": "668b60ce-a7c2-4b1f-8f46-75bec00205a9"
      },
      "source": [
        "plt.plot(a.history['loss'])\n",
        "plt.plot(a.history['val_loss'])"
      ],
      "execution_count": 13,
      "outputs": [
        {
          "output_type": "execute_result",
          "data": {
            "text/plain": [
              "[<matplotlib.lines.Line2D at 0x7f8f49d441d0>]"
            ]
          },
          "metadata": {},
          "execution_count": 13
        },
        {
          "output_type": "display_data",
          "data": {
            "image/png": "[encoded data removed]",
            "text/plain": [
              "<Figure size 432x288 with 1 Axes>"
            ]
          },
          "metadata": {
            "needs_background": "light"
          }
        }
      ]
    },
    {
      "cell_type": "code",
      "metadata": {
        "id": "7PNGtYiigHAq"
      },
      "source": [
        "model.save('dropout_cat_dog.h5')"
      ],
      "execution_count": 11,
      "outputs": []
    }
  ]
}