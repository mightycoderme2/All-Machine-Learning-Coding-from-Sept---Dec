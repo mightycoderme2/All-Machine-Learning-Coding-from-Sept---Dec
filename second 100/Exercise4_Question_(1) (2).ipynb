{
  "nbformat": 4,
  "nbformat_minor": 0,
  "metadata": {
    "coursera": {
      "course_slug": "introduction-tensorflow",
      "graded_item_id": "1kAlw",
      "launcher_item_id": "PNLYD"
    },
    "kernelspec": {
      "display_name": "Python 3",
      "language": "python",
      "name": "python3"
    },
    "language_info": {
      "codemirror_mode": {
        "name": "ipython",
        "version": 3
      },
      "file_extension": ".py",
      "mimetype": "text/x-python",
      "name": "python",
      "nbconvert_exporter": "python",
      "pygments_lexer": "ipython3",
      "version": "3.6.8"
    },
    "colab": {
      "name": "Exercise4-Question (1).ipynb",
      "provenance": []
    }
  },
  "cells": [
    {
      "cell_type": "markdown",
      "metadata": {
        "id": "UncprnB0ymAE"
      },
      "source": [
        "Below is code with a link to a happy or sad dataset which contains 80 images, 40 happy and 40 sad. \n",
        "Create a convolutional neural network that trains to 100% accuracy on these images,  which cancels training upon hitting training accuracy of >.999\n",
        "\n",
        "Hint -- it will work best with 3 convolutional layers."
      ]
    },
    {
      "cell_type": "code",
      "metadata": {
        "colab": {
          "base_uri": "https://localhost:8080/"
        },
        "id": "88Q673nJ-Ztq",
        "outputId": "c330871e-637b-41dc-99f9-0c5d177f9bd4"
      },
      "source": [
        "import tensorflow as tf\n",
        "import os\n",
        "import zipfile\n",
        "from os import path, getcwd, chdir\n",
        "\n",
        "\n",
        "# DO NOT CHANGE THE LINE BELOW. If you are developing in a local\n",
        "# environment, then grab happy-or-sad.zip from the Coursera Jupyter Notebook\n",
        "# and place it inside a local folder and edit the path to that location\n",
        "path = f\"{getcwd()}/../tmp2/happy-or-sad.zip\"\n",
        "\n",
        "zip_ref = zipfile.ZipFile(path, 'r')\n",
        "zip_ref.extractall(\"/tmp/h-or-s\")\n",
        "zip_ref.close()"
      ],
      "execution_count": 10,
      "outputs": [
        {
          "output_type": "stream",
          "name": "stdout",
          "text": [
            "--2021-11-03 04:20:40--  https://storage.googleapis.com/laurencemoroney-blog.appspot.com/happy-or-sad.zip\n",
            "Resolving storage.googleapis.com (storage.googleapis.com)... 172.217.203.128, 142.250.98.128, 64.233.170.128, ...\n",
            "Connecting to storage.googleapis.com (storage.googleapis.com)|172.217.203.128|:443... connected.\n",
            "HTTP request sent, awaiting response... 200 OK\n",
            "Length: 2670333 (2.5M) [application/zip]\n",
            "Saving to: ‘/tmp/happy-or-sad.zip’\n",
            "\n",
            "\r/tmp/happy-or-sad.z   0%[                    ]       0  --.-KB/s               \r/tmp/happy-or-sad.z 100%[===================>]   2.55M  --.-KB/s    in 0.02s   \n",
            "\n",
            "2021-11-03 04:20:40 (151 MB/s) - ‘/tmp/happy-or-sad.zip’ saved [2670333/2670333]\n",
            "\n"
          ]
        }
      ]
    },
    {
      "cell_type": "code",
      "metadata": {
        "id": "A9pimMFy-fg-"
      },
      "source": [
        "from tensorflow.keras.models import Sequential\n",
        "from tensorflow.keras.layers import Dense,Flatten,Conv2D,MaxPooling2D\n",
        "from tensorflow.keras.optimizers import Adam,RMSprop\n",
        "from tensorflow.keras.preprocessing.image import ImageDataGenerator\n",
        "from tensorflow.keras.callbacks import Callback"
      ],
      "execution_count": 42,
      "outputs": []
    },
    {
      "cell_type": "markdown",
      "metadata": {
        "id": "C49octx7_Gke"
      },
      "source": [
        ""
      ]
    },
    {
      "cell_type": "code",
      "metadata": {
        "id": "WF4BLG1u-Ztr"
      },
      "source": [
        "# GRADED FUNCTION: train_happy_sad_model\n",
        "def train_happy_sad_model():\n",
        "    # Please write your code only where you are indicated.\n",
        "    # please do not remove # model fitting inline comments.\n",
        "\n",
        "    DESIRED_ACCURACY = 0.999\n",
        "\n",
        "    class myCallback(tf.keras.callbacks.Callback): # YOUR CODE HERE):\n",
        "        \n",
        "        # YOUR CODE START HERE\n",
        "        def on_epoch_end(self, epoch, logs={}):\n",
        "            if logs.get('acc') is not None and logs.get('acc') > DESIRED_ACCURACY:\n",
        "                print(\"\\nReached 99.9% accuracy so cancelling training!\")\n",
        "                self.model.stop_training = True\n",
        "\n",
        "    callbacks = myCallback()\n",
        "    \n",
        "    # This Code Block should Define and Compile the Model. Please assume the images are 150 X 150 in your implementation.\n",
        "    model = Sequential([\n",
        "        \n",
        "      Conv2D(16,(3,3),activation='relu',input_shape=(150,150,3)),MaxPooling2D(2,2),\n",
        "      Conv2D(32,(3,3),activation='relu'),MaxPooling2D(2,2),\n",
        "      Conv2D(64,(3,3),activation='relu'),MaxPooling2D(2,2),\n",
        "      Conv2D(64,(3,3),activation='relu'),MaxPooling2D(2,2),\n",
        "      Conv2D(64,(3,3),activation='relu'),MaxPooling2D(2,2),\n",
        "      Flatten(),\n",
        "      Dense(512,activation='relu'),\n",
        "      Dense(1,activation='sigmoid')\n",
        "    ])\n",
        "\n",
        "    \n",
        "    model.compile(optimizer=RMSprop(learning_rate=0.001),metrics=['acc'],loss='binary_crossentropy')\n",
        "        \n",
        "\n",
        "    # This code block should create an instance of an ImageDataGenerator called train_datagen \n",
        "    # And a train_generator by calling train_datagen.flow_from_directory\n",
        "\n",
        "\n",
        "    train_datagen = ImageDataGenerator(rescale=1/255)\n",
        "\n",
        "    # Please use a target_size of 150 X 150.\n",
        "    train_generator = train_datagen.flow_from_directory(\n",
        "        '/tmp/h-or-s',\n",
        "        batch_size=10,\n",
        "        class_mode='binary',\n",
        "        target_size=(150,150)\n",
        "        )\n",
        "    # Expected output: 'Found 80 images belonging to 2 classes'\n",
        "\n",
        "    # This code block should call model.fit_generator and train for\n",
        "    # a number of epochs.\n",
        "    # model fitting\n",
        "    history = model.fit(\n",
        "          train_generator,\n",
        "          epochs=15,\n",
        "          verbose=1,\n",
        "          steps_per_epoch=8,\n",
        "          callbacks=[callbacks])\n",
        "    # model fitting\n",
        "    return history.history['acc'][-1]"
      ],
      "execution_count": 53,
      "outputs": []
    },
    {
      "cell_type": "code",
      "metadata": {
        "colab": {
          "base_uri": "https://localhost:8080/"
        },
        "id": "CZFFCnkA-Zts",
        "outputId": "18aa1aa8-e933-400a-84bb-16af74ba4bc8"
      },
      "source": [
        "# The Expected output: \"Reached 99.9% accuracy so cancelling training!\"\"\n",
        "train_happy_sad_model()"
      ],
      "execution_count": 54,
      "outputs": [
        {
          "output_type": "stream",
          "name": "stdout",
          "text": [
            "Found 80 images belonging to 2 classes.\n",
            "Epoch 1/15\n",
            "8/8 [==============================] - 3s 214ms/step - loss: 0.7701 - acc: 0.4750\n",
            "Epoch 2/15\n",
            "8/8 [==============================] - 2s 217ms/step - loss: 0.6800 - acc: 0.5625\n",
            "Epoch 3/15\n",
            "8/8 [==============================] - 2s 216ms/step - loss: 0.6423 - acc: 0.6625\n",
            "Epoch 4/15\n",
            "8/8 [==============================] - 2s 217ms/step - loss: 0.5646 - acc: 0.7625\n",
            "Epoch 5/15\n",
            "8/8 [==============================] - 2s 213ms/step - loss: 0.3688 - acc: 0.8750\n",
            "Epoch 6/15\n",
            "8/8 [==============================] - 2s 216ms/step - loss: 0.2115 - acc: 0.9125\n",
            "Epoch 7/15\n",
            "8/8 [==============================] - 2s 215ms/step - loss: 0.1879 - acc: 0.9250\n",
            "Epoch 8/15\n",
            "8/8 [==============================] - 2s 215ms/step - loss: 0.0932 - acc: 0.9375\n",
            "Epoch 9/15\n",
            "8/8 [==============================] - 2s 217ms/step - loss: 0.3228 - acc: 0.8750\n",
            "Epoch 10/15\n",
            "8/8 [==============================] - 2s 214ms/step - loss: 0.0925 - acc: 0.9625\n",
            "Epoch 11/15\n",
            "8/8 [==============================] - 2s 217ms/step - loss: 0.0238 - acc: 1.0000\n",
            "\n",
            "Reached 99.9% accuracy so cancelling training!\n"
          ]
        },
        {
          "output_type": "execute_result",
          "data": {
            "text/plain": [
              "1.0"
            ]
          },
          "metadata": {},
          "execution_count": 54
        }
      ]
    }
  ]
}