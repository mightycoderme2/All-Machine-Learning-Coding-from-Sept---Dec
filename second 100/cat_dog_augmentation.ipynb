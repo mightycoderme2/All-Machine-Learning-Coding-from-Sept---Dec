{
  "nbformat": 4,
  "nbformat_minor": 0,
  "metadata": {
    "colab": {
      "name": "cat_dog_augmentation.ipynb",
      "provenance": []
    },
    "kernelspec": {
      "name": "python3",
      "display_name": "Python 3"
    },
    "language_info": {
      "name": "python"
    },
    "accelerator": "GPU"
  },
  "cells": [
    {
      "cell_type": "code",
      "metadata": {
        "colab": {
          "base_uri": "https://localhost:8080/"
        },
        "id": "x6bDMIuAHCJ8",
        "outputId": "611bcced-8788-41ea-e172-46ec55e06d4e"
      },
      "source": [
        "!gdown --id 1RL0T7Rg4XqQNRCkjfnLo4goOJQ7XZro9"
      ],
      "execution_count": 1,
      "outputs": [
        {
          "output_type": "stream",
          "name": "stdout",
          "text": [
            "Downloading...\n",
            "From: https://drive.google.com/uc?id=1RL0T7Rg4XqQNRCkjfnLo4goOJQ7XZro9\n",
            "To: /content/cats_and_dogs_filtered.zip\n",
            "100% 68.6M/68.6M [00:00<00:00, 159MB/s]\n"
          ]
        }
      ]
    },
    {
      "cell_type": "code",
      "metadata": {
        "id": "F7_lnE6DH2IU"
      },
      "source": [
        "import tensorflow as tf\n",
        "from tensorflow.keras.preprocessing.text import Tokenizer\n",
        "from tensorflow.keras.preprocessing.sequence import pad_sequences\n",
        "import tensorflow_datasets as tfds\n",
        "from tensorflow.keras.layers import Dense,Flatten,Embedding,Conv2D,MaxPooling2D\n",
        "from tensorflow.keras.datasets import fashion_mnist\n",
        "from tensorflow.keras.models import Sequential\n",
        "import numpy as np\n",
        "import matplotlib.pyplot as plt\n",
        "from tensorflow.keras.optimizers import Adam\n",
        "import pandas as pd\n",
        "from tensorflow.keras.callbacks import Callback\n",
        "import os \n",
        "import zipfile\n",
        "from tensorflow.keras.optimizers import RMSprop\n",
        "from tensorflow.keras.preprocessing.image import ImageDataGenerator\n"
      ],
      "execution_count": 2,
      "outputs": []
    },
    {
      "cell_type": "code",
      "metadata": {
        "id": "oo00IV_BIHwO"
      },
      "source": [
        "\n",
        "zip_ref = zipfile.ZipFile(\"./cats_and_dogs_filtered.zip\", 'r')\n",
        "zip_ref.extractall(\"tmp/\")\n",
        "zip_ref.close()\n",
        "\n",
        "base_dir = 'tmp/cats_and_dogs_filtered'\n",
        "train_dir = os.path.join(base_dir, 'train')\n",
        "validation_dir = os.path.join(base_dir, 'validation')\n",
        "\n",
        "# Directory with our training cat pictures\n",
        "train_cats_dir = os.path.join(train_dir, 'cats')\n",
        "\n",
        "# Directory with our training dog pictures\n",
        "train_dogs_dir = os.path.join(train_dir, 'dogs')\n",
        "\n",
        "# Directory with our validation cat pictures\n",
        "validation_cats_dir = os.path.join(validation_dir, 'cats')\n",
        "\n",
        "# Directory with our validation dog pictures\n",
        "validation_dogs_dir = os.path.join(validation_dir, 'dogs')"
      ],
      "execution_count": 3,
      "outputs": []
    },
    {
      "cell_type": "code",
      "metadata": {
        "id": "ARD7JaoQI5GU"
      },
      "source": [
        "model=Sequential([Conv2D(32,(3,3),activation='relu',input_shape=(150,150,3)),\n",
        "                  MaxPooling2D(2,2),\n",
        "                  Conv2D(64,(3,3),activation='relu'),\n",
        "                  MaxPooling2D(2,2),\n",
        "                  Conv2D(128,(3,3),activation='relu'),\n",
        "                  MaxPooling2D(2,2),\n",
        "                   Conv2D(128,(3,3),activation='relu'),\n",
        "                  MaxPooling2D(2,2),\n",
        "                  Flatten(),\n",
        "                  Dense(512,activation='relu'),\n",
        "                  Dense(1,activation='sigmoid')])"
      ],
      "execution_count": 4,
      "outputs": []
    },
    {
      "cell_type": "code",
      "metadata": {
        "id": "A5b_LvvSJ5FX"
      },
      "source": [
        "model.compile(optimizer=RMSprop(learning_rate=0.01),loss='binary_crossentropy',metrics='accuracy')"
      ],
      "execution_count": 5,
      "outputs": []
    },
    {
      "cell_type": "code",
      "metadata": {
        "colab": {
          "base_uri": "https://localhost:8080/"
        },
        "id": "P5vmT_AAKLud",
        "outputId": "dd5eef8d-9869-418d-83e6-dde31179ff15"
      },
      "source": [
        "train_data=ImageDataGenerator(rescale=1./255).flow_from_directory(\n",
        "    train_dir,\n",
        "    target_size=(150,150),\n",
        "    batch_size=20,\n",
        "    class_mode='binary'\n",
        ")\n",
        "validation_data1=ImageDataGenerator(rescale=1./255).flow_from_directory(\n",
        "    validation_dir,\n",
        "    target_size=(150,150),\n",
        "    batch_size=20,\n",
        "    class_mode='binary'\n",
        ")"
      ],
      "execution_count": 6,
      "outputs": [
        {
          "output_type": "stream",
          "name": "stdout",
          "text": [
            "Found 2000 images belonging to 2 classes.\n",
            "Found 1000 images belonging to 2 classes.\n"
          ]
        }
      ]
    },
    {
      "cell_type": "code",
      "metadata": {
        "colab": {
          "base_uri": "https://localhost:8080/"
        },
        "id": "nW8uwbL8Knbu",
        "outputId": "d051b6a6-25d3-44b3-d7c9-7cdc3cecaaaf"
      },
      "source": [
        "a=model.fit(train_data,epochs=15,steps_per_epoch=100,validation_data=validation_data1,validation_steps=50,verbose=2)"
      ],
      "execution_count": 7,
      "outputs": [
        {
          "output_type": "stream",
          "name": "stdout",
          "text": [
            "Epoch 1/15\n",
            "100/100 - 31s - loss: 45.8607 - accuracy: 0.5040 - val_loss: 0.6966 - val_accuracy: 0.5000 - 31s/epoch - 311ms/step\n",
            "Epoch 2/15\n",
            "100/100 - 10s - loss: 0.6954 - accuracy: 0.4950 - val_loss: 0.6932 - val_accuracy: 0.5000 - 10s/epoch - 101ms/step\n",
            "Epoch 3/15\n",
            "100/100 - 10s - loss: 0.6939 - accuracy: 0.4970 - val_loss: 0.6933 - val_accuracy: 0.5000 - 10s/epoch - 102ms/step\n",
            "Epoch 4/15\n",
            "100/100 - 10s - loss: 0.6938 - accuracy: 0.4940 - val_loss: 0.6934 - val_accuracy: 0.5000 - 10s/epoch - 102ms/step\n",
            "Epoch 5/15\n",
            "100/100 - 10s - loss: 0.6936 - accuracy: 0.5040 - val_loss: 0.6935 - val_accuracy: 0.5000 - 10s/epoch - 100ms/step\n",
            "Epoch 6/15\n",
            "100/100 - 10s - loss: 0.6939 - accuracy: 0.4840 - val_loss: 0.6933 - val_accuracy: 0.5000 - 10s/epoch - 100ms/step\n",
            "Epoch 7/15\n",
            "100/100 - 10s - loss: 0.6931 - accuracy: 0.5100 - val_loss: 0.6937 - val_accuracy: 0.5000 - 10s/epoch - 101ms/step\n",
            "Epoch 8/15\n",
            "100/100 - 10s - loss: 0.6936 - accuracy: 0.5020 - val_loss: 0.6932 - val_accuracy: 0.5000 - 10s/epoch - 103ms/step\n",
            "Epoch 9/15\n",
            "100/100 - 10s - loss: 0.6936 - accuracy: 0.5010 - val_loss: 0.6932 - val_accuracy: 0.5000 - 10s/epoch - 102ms/step\n",
            "Epoch 10/15\n",
            "100/100 - 10s - loss: 0.6938 - accuracy: 0.5000 - val_loss: 0.6933 - val_accuracy: 0.5000 - 10s/epoch - 102ms/step\n",
            "Epoch 11/15\n",
            "100/100 - 10s - loss: 0.6937 - accuracy: 0.4890 - val_loss: 0.6932 - val_accuracy: 0.5000 - 10s/epoch - 102ms/step\n",
            "Epoch 12/15\n",
            "100/100 - 10s - loss: 0.6938 - accuracy: 0.4830 - val_loss: 0.6932 - val_accuracy: 0.5000 - 10s/epoch - 102ms/step\n",
            "Epoch 13/15\n",
            "100/100 - 10s - loss: 0.6937 - accuracy: 0.4960 - val_loss: 0.6933 - val_accuracy: 0.5000 - 10s/epoch - 103ms/step\n",
            "Epoch 14/15\n",
            "100/100 - 10s - loss: 0.6938 - accuracy: 0.4730 - val_loss: 0.6933 - val_accuracy: 0.5000 - 10s/epoch - 101ms/step\n",
            "Epoch 15/15\n",
            "100/100 - 10s - loss: 0.6938 - accuracy: 0.4880 - val_loss: 0.6932 - val_accuracy: 0.5000 - 10s/epoch - 102ms/step\n"
          ]
        }
      ]
    },
    {
      "cell_type": "code",
      "metadata": {
        "colab": {
          "base_uri": "https://localhost:8080/",
          "height": 282
        },
        "id": "Ak8tTBCCK7DM",
        "outputId": "a7608953-6fa9-4eef-85d4-594f08b13b5c"
      },
      "source": [
        "plt.plot(a.history['accuracy'])\n",
        "plt.plot(a.history['val_accuracy'])"
      ],
      "execution_count": 8,
      "outputs": [
        {
          "output_type": "execute_result",
          "data": {
            "text/plain": [
              "[<matplotlib.lines.Line2D at 0x7fedecc99690>]"
            ]
          },
          "metadata": {},
          "execution_count": 8
        },
        {
          "output_type": "display_data",
          "data": {
            "image/png": "[encoded data removed]",
            "text/plain": [
              "<Figure size 432x288 with 1 Axes>"
            ]
          },
          "metadata": {
            "needs_background": "light"
          }
        }
      ]
    },
    {
      "cell_type": "code",
      "metadata": {
        "colab": {
          "base_uri": "https://localhost:8080/",
          "height": 282
        },
        "id": "UUGEknmaLMRC",
        "outputId": "c5c2c3fe-d383-4d6c-d269-816246b3a719"
      },
      "source": [
        "plt.plot(a.history['loss'])\n",
        "plt.plot(a.history['val_loss'])"
      ],
      "execution_count": 9,
      "outputs": [
        {
          "output_type": "execute_result",
          "data": {
            "text/plain": [
              "[<matplotlib.lines.Line2D at 0x7fedec777e10>]"
            ]
          },
          "metadata": {},
          "execution_count": 9
        },
        {
          "output_type": "display_data",
          "data": {
            "image/png": "[encoded data removed]",
            "text/plain": [
              "<Figure size 432x288 with 1 Axes>"
            ]
          },
          "metadata": {
            "needs_background": "light"
          }
        }
      ]
    }
  ]
}