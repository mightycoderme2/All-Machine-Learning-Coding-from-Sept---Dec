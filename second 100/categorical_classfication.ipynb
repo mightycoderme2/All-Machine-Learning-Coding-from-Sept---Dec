{
  "nbformat": 4,
  "nbformat_minor": 0,
  "metadata": {
    "colab": {
      "name": "categorical_classfication.ipynb",
      "provenance": [],
      "collapsed_sections": []
    },
    "kernelspec": {
      "name": "python3",
      "display_name": "Python 3"
    },
    "language_info": {
      "name": "python"
    },
    "accelerator": "GPU"
  },
  "cells": [
    {
      "cell_type": "code",
      "metadata": {
        "colab": {
          "base_uri": "https://localhost:8080/"
        },
        "id": "AyNRxFUj84UR",
        "outputId": "6fc17d36-9165-4476-c495-efe383d83458"
      },
      "source": [
        "# rps training set\n",
        "!gdown --id 1DYVMuV2I_fA6A3er-mgTavrzKuxwpvKV\n",
        "  \n",
        "# rps testing set\n",
        "!gdown --id 1RaodrRK1K03J_dGiLu8raeUynwmIbUaM"
      ],
      "execution_count": 1,
      "outputs": [
        {
          "output_type": "stream",
          "name": "stdout",
          "text": [
            "Downloading...\n",
            "From: https://drive.google.com/uc?id=1DYVMuV2I_fA6A3er-mgTavrzKuxwpvKV\n",
            "To: /content/rps.zip\n",
            "100% 201M/201M [00:01<00:00, 166MB/s]\n",
            "Downloading...\n",
            "From: https://drive.google.com/uc?id=1RaodrRK1K03J_dGiLu8raeUynwmIbUaM\n",
            "To: /content/rps-test-set.zip\n",
            "100% 29.5M/29.5M [00:00<00:00, 138MB/s]\n"
          ]
        }
      ]
    },
    {
      "cell_type": "code",
      "metadata": {
        "id": "6qPAt36F85kO"
      },
      "source": [
        "import zipfile \n",
        "import os\n",
        "local_zip='./rps.zip'\n",
        "zip_ref=zipfile.ZipFile(local_zip,'r')\n",
        "zip_ref.extractall('tmp/rps-train')\n",
        "zip_ref.close()\n",
        "\n",
        "local_zip = './rps-test-set.zip'\n",
        "zip_ref = zipfile.ZipFile(local_zip, 'r')\n",
        "zip_ref.extractall('tmp/rps-test')\n",
        "zip_ref.close()"
      ],
      "execution_count": 2,
      "outputs": []
    },
    {
      "cell_type": "code",
      "metadata": {
        "id": "fvikLtbX9MbG"
      },
      "source": [
        "base='/content/tmp/rps-train/rps'\n",
        "rock_dir='/content/tmp/rps-train/rps/rock'\n",
        "paper_dir='/content/tmp/rps-train/rps/paper'\n",
        "scissors_dir='/content/tmp/rps-train/rps/scissors'\n",
        "\n",
        "rock=os.listdir(rock_dir)\n",
        "paper=os.listdir(paper_dir)\n",
        "scissors=os.listdir(scissors_dir)"
      ],
      "execution_count": 3,
      "outputs": []
    },
    {
      "cell_type": "code",
      "metadata": {
        "id": "KX8DkwhV-MEE"
      },
      "source": [
        "import tensorflow\n",
        "import tensorflow as tf \n",
        "from tensorflow.keras.models import Sequential\n",
        "from tensorflow.keras.layers import Dense,Dropout,Flatten,Conv2D,MaxPooling2D\n",
        "from tensorflow.keras.preprocessing.image import ImageDataGenerator"
      ],
      "execution_count": 4,
      "outputs": []
    },
    {
      "cell_type": "code",
      "metadata": {
        "colab": {
          "base_uri": "https://localhost:8080/"
        },
        "id": "yzeIZ6SZ-zm8",
        "outputId": "53165a90-a442-4d41-d062-04acf6ca6858"
      },
      "source": [
        "train_area=ImageDataGenerator(rescale=1./255.,\n",
        "                         rotation_range=40,\n",
        "                         width_shift_range=0.2,\n",
        "                         height_shift_range=0.2,\n",
        "                         shear_range=0.2,\n",
        "                         zoom_range=0.2,\n",
        "                         horizontal_flip=True,\n",
        "                         fill_mode='nearest')\n",
        "validation_area= \"tmp/rps-test/rps-test-set\"\n",
        "validation_ar=ImageDataGenerator(rescale=1./255.)\n",
        "\n",
        "train=train_area.flow_from_directory(base,\n",
        "                                     target_size=(150,150),\n",
        "                                     class_mode='categorical',\n",
        "                                     batch_size=126)\n",
        "validation=train_area.flow_from_directory(validation_area,\n",
        "                                     target_size=(150,150),\n",
        "                                     class_mode='categorical',\n",
        "                                     batch_size=126)"
      ],
      "execution_count": 5,
      "outputs": [
        {
          "output_type": "stream",
          "name": "stdout",
          "text": [
            "Found 2520 images belonging to 3 classes.\n",
            "Found 372 images belonging to 3 classes.\n"
          ]
        }
      ]
    },
    {
      "cell_type": "code",
      "metadata": {
        "id": "g3hsFW-eAOCC"
      },
      "source": [
        "model=Sequential([Conv2D(64,(3,3),activation='relu',input_shape=(150,150,3)),\n",
        "                  MaxPooling2D(2,2),\n",
        "                  Conv2D(64,(3,3),activation='relu'),\n",
        "                  MaxPooling2D(2,2),\n",
        "                  Conv2D(128,(3,3),activation='relu'),\n",
        "                  MaxPooling2D(2,2),\n",
        "                  Conv2D(128,(3,3),activation='relu'),\n",
        "                  MaxPooling2D(2,2),\n",
        "                  Flatten(),\n",
        "                  Dropout(0.5),\n",
        "                  Dense(512,activation='relu'),\n",
        "                  Dense(3,activation='softmax')\n",
        "                  ])"
      ],
      "execution_count": 6,
      "outputs": []
    },
    {
      "cell_type": "code",
      "metadata": {
        "colab": {
          "base_uri": "https://localhost:8080/"
        },
        "id": "tRVbIrbOA61L",
        "outputId": "578bcbe5-921e-49fe-ff3a-eaae598269a5"
      },
      "source": [
        "from tensorflow.keras.optimizers import RMSprop\n",
        "model.compile(metrics=['accuracy'],loss='categorical_crossentropy',optimizer=RMSprop(lr=0.001))"
      ],
      "execution_count": 7,
      "outputs": [
        {
          "output_type": "stream",
          "name": "stderr",
          "text": [
            "/usr/local/lib/python3.7/dist-packages/keras/optimizer_v2/rmsprop.py:130: UserWarning: The `lr` argument is deprecated, use `learning_rate` instead.\n",
            "  super(RMSprop, self).__init__(name, **kwargs)\n"
          ]
        }
      ]
    },
    {
      "cell_type": "code",
      "metadata": {
        "colab": {
          "base_uri": "https://localhost:8080/"
        },
        "id": "nuKTISAaDuq5",
        "outputId": "70f2eaab-3498-4718-ea40-4076f955c879"
      },
      "source": [
        "a=model.fit(train,epochs=25,steps_per_epoch=20,validation_data=validation,validation_steps=3,verbose=1)"
      ],
      "execution_count": null,
      "outputs": [
        {
          "output_type": "stream",
          "name": "stdout",
          "text": [
            "Epoch 1/25\n",
            "20/20 [==============================] - 60s 1s/step - loss: 1.3262 - accuracy: 0.3214 - val_loss: 1.0954 - val_accuracy: 0.3629\n",
            "Epoch 2/25\n",
            "20/20 [==============================] - 25s 1s/step - loss: 1.1011 - accuracy: 0.3786 - val_loss: 1.0971 - val_accuracy: 0.3333\n",
            "Epoch 3/25\n",
            "20/20 [==============================] - 25s 1s/step - loss: 1.1044 - accuracy: 0.4004 - val_loss: 1.0725 - val_accuracy: 0.3441\n",
            "Epoch 4/25\n",
            "20/20 [==============================] - 25s 1s/step - loss: 1.0637 - accuracy: 0.4437 - val_loss: 0.9965 - val_accuracy: 0.5242\n",
            "Epoch 5/25\n",
            "20/20 [==============================] - 25s 1s/step - loss: 0.9661 - accuracy: 0.5393 - val_loss: 0.8012 - val_accuracy: 0.6801\n",
            "Epoch 6/25\n",
            "20/20 [==============================] - 25s 1s/step - loss: 0.7601 - accuracy: 0.6349 - val_loss: 0.5246 - val_accuracy: 0.8065\n",
            "Epoch 7/25\n",
            "20/20 [==============================] - 25s 1s/step - loss: 0.7653 - accuracy: 0.6504 - val_loss: 0.6804 - val_accuracy: 0.7527\n",
            "Epoch 8/25\n",
            "20/20 [==============================] - 25s 1s/step - loss: 0.5751 - accuracy: 0.7627 - val_loss: 0.3701 - val_accuracy: 0.8710\n",
            "Epoch 9/25\n",
            "20/20 [==============================] - 24s 1s/step - loss: 0.5746 - accuracy: 0.7532 - val_loss: 0.3337 - val_accuracy: 0.8737\n",
            "Epoch 10/25\n",
            "20/20 [==============================] - 25s 1s/step - loss: 0.3696 - accuracy: 0.8500 - val_loss: 0.3756 - val_accuracy: 0.8548\n",
            "Epoch 11/25\n"
          ]
        }
      ]
    },
    {
      "cell_type": "code",
      "metadata": {
        "colab": {
          "base_uri": "https://localhost:8080/",
          "height": 234
        },
        "id": "SCidr6WBCD4i",
        "outputId": "e3c935c5-e137-416e-d3a8-de0c515738f7"
      },
      "source": [
        "import matplotlib.pyplot as plt\n",
        "acc = a.history['accuracy']\n",
        "val_acc = a.history['val_accuracy']\n",
        "loss = a.history['loss']\n",
        "val_loss = a.history['val_loss']\n",
        "\n",
        "epochs = range(len(acc))\n",
        "\n",
        "plt.plot(epochs, acc, 'r', label='Training accuracy')\n",
        "plt.plot(epochs, val_acc, 'b', label='Validation accuracy')\n",
        "plt.title('Training and validation accuracy')\n",
        "plt.legend(loc=0)\n",
        "plt.figure()\n"
      ],
      "execution_count": 8,
      "outputs": [
        {
          "output_type": "error",
          "ename": "NameError",
          "evalue": "ignored",
          "traceback": [
            "\u001b[0;31m---------------------------------------------------------------------------\u001b[0m",
            "\u001b[0;31mNameError\u001b[0m                                 Traceback (most recent call last)",
            "\u001b[0;32m<ipython-input-8-3a3e43a3d76b>\u001b[0m in \u001b[0;36m<module>\u001b[0;34m()\u001b[0m\n\u001b[1;32m      1\u001b[0m \u001b[0;32mimport\u001b[0m \u001b[0mmatplotlib\u001b[0m\u001b[0;34m.\u001b[0m\u001b[0mpyplot\u001b[0m \u001b[0;32mas\u001b[0m \u001b[0mplt\u001b[0m\u001b[0;34m\u001b[0m\u001b[0;34m\u001b[0m\u001b[0m\n\u001b[0;32m----> 2\u001b[0;31m \u001b[0macc\u001b[0m \u001b[0;34m=\u001b[0m \u001b[0ma\u001b[0m\u001b[0;34m.\u001b[0m\u001b[0mhistory\u001b[0m\u001b[0;34m[\u001b[0m\u001b[0;34m'accuracy'\u001b[0m\u001b[0;34m]\u001b[0m\u001b[0;34m\u001b[0m\u001b[0;34m\u001b[0m\u001b[0m\n\u001b[0m\u001b[1;32m      3\u001b[0m \u001b[0mval_acc\u001b[0m \u001b[0;34m=\u001b[0m \u001b[0ma\u001b[0m\u001b[0;34m.\u001b[0m\u001b[0mhistory\u001b[0m\u001b[0;34m[\u001b[0m\u001b[0;34m'val_accuracy'\u001b[0m\u001b[0;34m]\u001b[0m\u001b[0;34m\u001b[0m\u001b[0;34m\u001b[0m\u001b[0m\n\u001b[1;32m      4\u001b[0m \u001b[0mloss\u001b[0m \u001b[0;34m=\u001b[0m \u001b[0ma\u001b[0m\u001b[0;34m.\u001b[0m\u001b[0mhistory\u001b[0m\u001b[0;34m[\u001b[0m\u001b[0;34m'loss'\u001b[0m\u001b[0;34m]\u001b[0m\u001b[0;34m\u001b[0m\u001b[0;34m\u001b[0m\u001b[0m\n\u001b[1;32m      5\u001b[0m \u001b[0mval_loss\u001b[0m \u001b[0;34m=\u001b[0m \u001b[0ma\u001b[0m\u001b[0;34m.\u001b[0m\u001b[0mhistory\u001b[0m\u001b[0;34m[\u001b[0m\u001b[0;34m'val_loss'\u001b[0m\u001b[0;34m]\u001b[0m\u001b[0;34m\u001b[0m\u001b[0;34m\u001b[0m\u001b[0m\n",
            "\u001b[0;31mNameError\u001b[0m: name 'a' is not defined"
          ]
        }
      ]
    }
  ]
}