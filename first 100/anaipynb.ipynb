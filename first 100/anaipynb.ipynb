{
  "cells": [
    {
      "cell_type": "code",
      "execution_count": 2,
      "metadata": {
        "colab": {
          "base_uri": "https://localhost:8080/"
        },
        "id": "AyNRxFUj84UR",
        "outputId": "ac065233-247e-4450-bf5f-a1bd0e9c4877"
      },
      "outputs": [
        {
          "name": "stdout",
          "output_type": "stream",
          "text": [
            "Downloading...\n",
            "From: https://drive.google.com/uc?id=1z0DkA9BytlLxO1C0BAWzknLyQmZAp0HR\n",
            "To: /content/sign_mnist_train.csv\n",
            "100% 83.3M/83.3M [00:00<00:00, 166MB/s]\n",
            "Downloading...\n",
            "From: https://drive.google.com/uc?id=1z1BIj4qmri59GWBG4ivMNFtpZ4AXIbzg\n",
            "To: /content/sign_mnist_test.csv\n",
            "100% 21.8M/21.8M [00:00<00:00, 132MB/s]\n"
          ]
        }
      ],
      "source": [
        "# ATTENTION: Please do not alter any of the provided code in the exercise. Only add your own code where indicated\n",
        "# ATTENTION: Please do not add or remove any cells in the exercise. The grader will check specific cells based on the cell position.\n",
        "# ATTENTION: Please use the provided epoch values when training.\n",
        "\n",
        "import csv\n",
        "import numpy as np\n",
        "import tensorflow as tf\n",
        "from tensorflow.keras.preprocessing.image import ImageDataGenerator\n",
        "from os import getcwd\n",
        "# sign_mnist_train.csv\n",
        "!gdown --id 1z0DkA9BytlLxO1C0BAWzknLyQmZAp0HR\n",
        "# sign_mnist_test.csv\n",
        "!gdown --id 1z1BIj4qmri59GWBG4ivMNFtpZ4AXIbzg"
      ]
    },
    {
      "cell_type": "code",
      "execution_count": null,
      "metadata": {
        "id": "Lu5VW4pQmsTm"
      },
      "outputs": [],
      "source": [
        "def get_data(filename):\n",
        "    with open(filename) as training_file:\n",
        "      csv_reader = csv.reader(training_file, delimiter=',')\n",
        "      first_line = True\n",
        "      temp_images = []\n",
        "      temp_labels = []\n",
        "      for row in csv_reader:\n",
        "        if first_line:\n",
        "                # print(\"Ignoring first line\")\n",
        "            first_line = False\n",
        "        else:\n",
        "            temp_labels.append(row[0])\n",
        "            image_data = row[1:785]\n",
        "            image_data_as_array = np.array_split(image_data, 28)\n",
        "            temp_images.append(image_data_as_array)\n",
        "        images = np.array(temp_images).astype('float')\n",
        "        labels = np.array(temp_labels).astype('float')\n",
        "    return images, labels\n",
        "\n",
        "path_sign_mnist_train = f\"{getcwd()}/../content/sign_mnist_train.csv\"\n",
        "path_sign_mnist_test = f\"{getcwd()}/../content/sign_mnist_test.csv\"\n",
        "training_images, training_labels = get_data(path_sign_mnist_train)\n",
        "testing_images, testing_labels = get_data(path_sign_mnist_test)\n",
        "\n",
        "# Keep these\n",
        "print(training_images.shape)\n",
        "print(training_labels.shape)\n",
        "print(testing_images.shape)\n",
        "print(testing_labels.shape)\n",
        "\n",
        "# Their output should be:\n",
        "# (27455, 28, 28)\n",
        "# (27455,)\n",
        "# (7172, 28, 28)\n",
        "# (7172,)"
      ]
    },
    {
      "cell_type": "code",
      "execution_count": 2,
      "metadata": {
        "colab": {
          "base_uri": "https://localhost:8080/",
          "height": 130
        },
        "id": "fvikLtbX9MbG",
        "outputId": "da163272-d85b-4fbe-975e-39a43141e976"
      },
      "outputs": [
        {
          "ename": "SyntaxError",
          "evalue": "ignored",
          "output_type": "error",
          "traceback": [
            "\u001b[0;36m  File \u001b[0;32m\"<ipython-input-2-1065221dfa9d>\"\u001b[0;36m, line \u001b[0;32m27\u001b[0m\n\u001b[0;31m    print(training_images.shape)\u001b[0m\n\u001b[0m        ^\u001b[0m\n\u001b[0;31mSyntaxError\u001b[0m\u001b[0;31m:\u001b[0m invalid syntax\n"
          ]
        }
      ],
      "source": [
        "# In this section you will have to add another dimension to the data\n",
        "# So, for example, if your array is (10000, 28, 28)\n",
        "# You will need to make it (10000, 28, 28, 1)\n",
        "# Hint: np.expand_dims\n",
        "\n",
        "\n",
        "training_images = np.expand_dims(training_images, axis=3) ### YOUR CODE HERE\n",
        "testing_images = np.expand_dims(testing_images, axis=3) ### YOUR CODE HERE\n",
        "\n",
        "# Create an ImageDataGenerator and do Image Augmentation\n",
        "train_datagen = ImageDataGenerator(\n",
        "    # Your Code Here\n",
        "    rescale=1. / 255,\n",
        "    rotation_range=40,\n",
        "    width_shift_range=0.2,\n",
        "    height_shift_range=0.2,\n",
        "    shear_range=0.2,\n",
        "    zoom_range=0.2,\n",
        "    horizontal_flip=True,\n",
        "    fill_mode='nearest'\n",
        "    )\n",
        "\n",
        "validation_datagen = ImageDataGenerator(rescale=1./255.\n",
        "    # Your Code Here)\n",
        "    \n",
        "# Keep These\n",
        "print(training_images.shape)\n",
        "print(testing_images.shape)\n",
        "    \n",
        "# Their output should be:\n",
        "# (27455, 28, 28, 1)\n",
        "# (7172, 28, 28, 1)"
      ]
    },
    {
      "cell_type": "code",
      "execution_count": null,
      "metadata": {
        "id": "KX8DkwhV-MEE"
      },
      "outputs": [],
      "source": [
        "# Define the model\n",
        "# Use no more than 2 Conv2D and 2 MaxPooling2D\n",
        "import tensorflow\n",
        "import tensorflow as tf \n",
        "from tensorflow.keras.models import Sequential\n",
        "from tensorflow.keras.layers import Dense,Dropout,Flatten,Conv2D,MaxPooling2D\n",
        "from tensorflow.keras.preprocessing.image import ImageDataGenerator\n",
        "from tensorflow.keras.optimizers import RMSprop\n",
        "\n",
        "model = tf.keras.models.Sequential([\n",
        "    # Your Code Here\n",
        "    Conv2D(64,(3,3),acitvation='relu',input_shape=(150,150,3)),\n",
        "    MaxPooling2D(2,2),\n",
        "    Conv2D(64,(3,3),acitvation='relu'),\n",
        "    MaxPooling2D(2,2),\n",
        "    Flatten(),\n",
        "    Dense(128,activation='relu'),\n",
        "    Dense(26,activation='softmax')\n",
        "    \n",
        "])\n",
        "\n",
        "# Compile Model. \n",
        "model.compile(loss='categorical_crossentropy',metrics=['accuracy'],optimizer=RMSprop(lr=0.001))\n",
        "\n",
        "# Train the Model\n",
        "\n",
        "history = model.fit(train_datagen.flow(training_images, training_labels, batch_size=32), ### YOUR CODE HERE)\n",
        "                              steps_per_epoch=len(training_images) / 32,\n",
        "                              epochs=15,\n",
        "                              validation_data=validation_datagen.flow(testing_images, testing_labels, batch_size=32),\n",
        "                              validation_steps=len(testing_images) / 32)\n",
        "\n",
        "model.evaluate(testing_images, testing_labels, verbose=0)"
      ]
    },
    {
      "cell_type": "code",
      "execution_count": null,
      "metadata": {
        "id": "g3hsFW-eAOCC"
      },
      "outputs": [],
      "source": [
        "# Plot the chart for accuracy and loss on both training and validation\n",
        "%matplotlib inline\n",
        "import matplotlib.pyplot as plt\n",
        "acc = a.history['accuracy']\n",
        "val_acc = a.history['val_accuracy']\n",
        "loss = a.history['loss']\n",
        "val_loss = a.history['val_loss']\n",
        "\n",
        "epochs = range(len(acc))\n",
        "\n",
        "plt.plot(epochs, acc, 'r', label='Training accuracy')\n",
        "plt.plot(epochs, val_acc, 'b', label='Validation accuracy')\n",
        "plt.title('Training and validation accuracy')\n",
        "plt.legend()\n",
        "plt.figure()\n",
        "\n",
        "plt.plot(epochs, loss, 'r', label='Training Loss')\n",
        "plt.plot(epochs, val_loss, 'b', label='Validation Loss')\n",
        "plt.title('Training and validation loss')\n",
        "plt.legend()\n",
        "\n",
        "plt.show()"
      ]
    }
  ],
  "metadata": {
    "accelerator": "GPU",
    "colab": {
      "collapsed_sections": [],
      "name": "anaipynb",
      "provenance": []
    },
    "kernelspec": {
      "display_name": "Python 3",
      "name": "python3"
    },
    "language_info": {
      "name": "python"
    }
  },
  "nbformat": 4,
  "nbformat_minor": 0
}
